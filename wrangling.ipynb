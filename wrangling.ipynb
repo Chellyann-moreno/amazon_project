{
 "cells": [
  {
   "cell_type": "code",
   "execution_count": 2,
   "id": "5eeb3abc-127c-4ac9-9c12-afe5120d3f5d",
   "metadata": {},
   "outputs": [],
   "source": [
    "import os\n",
    "import pandas as pd\n",
    "import matplotlib.pyplot as plt\n",
    "import numpy as np\n",
    "import seaborn as sns\n",
    "import talib\n",
    "\n",
    "\n"
   ]
  },
  {
   "cell_type": "markdown",
   "id": "f787bbde-40cc-4224-9364-8321ab59fbea",
   "metadata": {},
   "source": [
    "# WRANGLE IT!"
   ]
  },
  {
   "cell_type": "code",
   "execution_count": 3,
   "id": "d3a0515b-5bd7-4eb3-9068-0ca0b75d7728",
   "metadata": {
    "tags": []
   },
   "outputs": [],
   "source": [
    "#Change index date to datetime\n",
    "amzn=pd.read_csv('AMZN_data.csv',index_col=0)\n"
   ]
  },
  {
   "cell_type": "code",
   "execution_count": 4,
   "id": "3c44df75-39d3-46f5-9def-be8137558a95",
   "metadata": {
    "tags": []
   },
   "outputs": [
    {
     "data": {
      "text/html": [
       "<div>\n",
       "<style scoped>\n",
       "    .dataframe tbody tr th:only-of-type {\n",
       "        vertical-align: middle;\n",
       "    }\n",
       "\n",
       "    .dataframe tbody tr th {\n",
       "        vertical-align: top;\n",
       "    }\n",
       "\n",
       "    .dataframe thead th {\n",
       "        text-align: right;\n",
       "    }\n",
       "</style>\n",
       "<table border=\"1\" class=\"dataframe\">\n",
       "  <thead>\n",
       "    <tr style=\"text-align: right;\">\n",
       "      <th></th>\n",
       "      <th>Open</th>\n",
       "      <th>High</th>\n",
       "      <th>Low</th>\n",
       "      <th>Close</th>\n",
       "      <th>Adj Close</th>\n",
       "      <th>Volume</th>\n",
       "    </tr>\n",
       "    <tr>\n",
       "      <th>Date</th>\n",
       "      <th></th>\n",
       "      <th></th>\n",
       "      <th></th>\n",
       "      <th></th>\n",
       "      <th></th>\n",
       "      <th></th>\n",
       "    </tr>\n",
       "  </thead>\n",
       "  <tbody>\n",
       "    <tr>\n",
       "      <th>1999-01-04</th>\n",
       "      <td>2.730729</td>\n",
       "      <td>2.966667</td>\n",
       "      <td>2.665625</td>\n",
       "      <td>2.957813</td>\n",
       "      <td>2.957813</td>\n",
       "      <td>785844000</td>\n",
       "    </tr>\n",
       "    <tr>\n",
       "      <th>1999-01-05</th>\n",
       "      <td>2.739063</td>\n",
       "      <td>3.243750</td>\n",
       "      <td>2.662500</td>\n",
       "      <td>3.112500</td>\n",
       "      <td>3.112500</td>\n",
       "      <td>1257464000</td>\n",
       "    </tr>\n",
       "    <tr>\n",
       "      <th>1999-01-06</th>\n",
       "      <td>3.409375</td>\n",
       "      <td>3.509375</td>\n",
       "      <td>3.350000</td>\n",
       "      <td>3.450000</td>\n",
       "      <td>3.450000</td>\n",
       "      <td>723532000</td>\n",
       "    </tr>\n",
       "    <tr>\n",
       "      <th>1999-01-07</th>\n",
       "      <td>3.428125</td>\n",
       "      <td>4.006250</td>\n",
       "      <td>3.325000</td>\n",
       "      <td>3.971875</td>\n",
       "      <td>3.971875</td>\n",
       "      <td>945492000</td>\n",
       "    </tr>\n",
       "    <tr>\n",
       "      <th>1999-01-08</th>\n",
       "      <td>4.606250</td>\n",
       "      <td>4.978125</td>\n",
       "      <td>3.800000</td>\n",
       "      <td>4.006250</td>\n",
       "      <td>4.006250</td>\n",
       "      <td>1333244000</td>\n",
       "    </tr>\n",
       "  </tbody>\n",
       "</table>\n",
       "</div>"
      ],
      "text/plain": [
       "                Open      High       Low     Close  Adj Close      Volume\n",
       "Date                                                                     \n",
       "1999-01-04  2.730729  2.966667  2.665625  2.957813   2.957813   785844000\n",
       "1999-01-05  2.739063  3.243750  2.662500  3.112500   3.112500  1257464000\n",
       "1999-01-06  3.409375  3.509375  3.350000  3.450000   3.450000   723532000\n",
       "1999-01-07  3.428125  4.006250  3.325000  3.971875   3.971875   945492000\n",
       "1999-01-08  4.606250  4.978125  3.800000  4.006250   4.006250  1333244000"
      ]
     },
     "execution_count": 4,
     "metadata": {},
     "output_type": "execute_result"
    }
   ],
   "source": [
    "amzn.head()"
   ]
  },
  {
   "cell_type": "code",
   "execution_count": 5,
   "id": "f1778a4f-8753-4068-b477-769b0158d5e9",
   "metadata": {
    "tags": []
   },
   "outputs": [
    {
     "data": {
      "text/html": [
       "<div>\n",
       "<style scoped>\n",
       "    .dataframe tbody tr th:only-of-type {\n",
       "        vertical-align: middle;\n",
       "    }\n",
       "\n",
       "    .dataframe tbody tr th {\n",
       "        vertical-align: top;\n",
       "    }\n",
       "\n",
       "    .dataframe thead th {\n",
       "        text-align: right;\n",
       "    }\n",
       "</style>\n",
       "<table border=\"1\" class=\"dataframe\">\n",
       "  <thead>\n",
       "    <tr style=\"text-align: right;\">\n",
       "      <th></th>\n",
       "      <th>Open</th>\n",
       "      <th>High</th>\n",
       "      <th>Low</th>\n",
       "      <th>Close</th>\n",
       "      <th>Adj Close</th>\n",
       "      <th>Volume</th>\n",
       "    </tr>\n",
       "    <tr>\n",
       "      <th>Date</th>\n",
       "      <th></th>\n",
       "      <th></th>\n",
       "      <th></th>\n",
       "      <th></th>\n",
       "      <th></th>\n",
       "      <th></th>\n",
       "    </tr>\n",
       "  </thead>\n",
       "  <tbody>\n",
       "    <tr>\n",
       "      <th>2022-12-23</th>\n",
       "      <td>83.250000</td>\n",
       "      <td>85.779999</td>\n",
       "      <td>82.930000</td>\n",
       "      <td>85.250000</td>\n",
       "      <td>85.250000</td>\n",
       "      <td>57433700</td>\n",
       "    </tr>\n",
       "    <tr>\n",
       "      <th>2022-12-27</th>\n",
       "      <td>84.970001</td>\n",
       "      <td>85.349998</td>\n",
       "      <td>83.000000</td>\n",
       "      <td>83.040001</td>\n",
       "      <td>83.040001</td>\n",
       "      <td>57284000</td>\n",
       "    </tr>\n",
       "    <tr>\n",
       "      <th>2022-12-28</th>\n",
       "      <td>82.800003</td>\n",
       "      <td>83.480003</td>\n",
       "      <td>81.690002</td>\n",
       "      <td>81.820000</td>\n",
       "      <td>81.820000</td>\n",
       "      <td>58228600</td>\n",
       "    </tr>\n",
       "    <tr>\n",
       "      <th>2022-12-29</th>\n",
       "      <td>82.870003</td>\n",
       "      <td>84.550003</td>\n",
       "      <td>82.550003</td>\n",
       "      <td>84.180000</td>\n",
       "      <td>84.180000</td>\n",
       "      <td>54995900</td>\n",
       "    </tr>\n",
       "    <tr>\n",
       "      <th>2022-12-30</th>\n",
       "      <td>83.120003</td>\n",
       "      <td>84.050003</td>\n",
       "      <td>82.470001</td>\n",
       "      <td>84.000000</td>\n",
       "      <td>84.000000</td>\n",
       "      <td>62401200</td>\n",
       "    </tr>\n",
       "  </tbody>\n",
       "</table>\n",
       "</div>"
      ],
      "text/plain": [
       "                 Open       High        Low      Close  Adj Close    Volume\n",
       "Date                                                                       \n",
       "2022-12-23  83.250000  85.779999  82.930000  85.250000  85.250000  57433700\n",
       "2022-12-27  84.970001  85.349998  83.000000  83.040001  83.040001  57284000\n",
       "2022-12-28  82.800003  83.480003  81.690002  81.820000  81.820000  58228600\n",
       "2022-12-29  82.870003  84.550003  82.550003  84.180000  84.180000  54995900\n",
       "2022-12-30  83.120003  84.050003  82.470001  84.000000  84.000000  62401200"
      ]
     },
     "execution_count": 5,
     "metadata": {},
     "output_type": "execute_result"
    }
   ],
   "source": [
    "amzn.tail()"
   ]
  },
  {
   "cell_type": "code",
   "execution_count": 6,
   "id": "de955c98-0ff2-4a7f-adee-f65068835a8d",
   "metadata": {
    "tags": []
   },
   "outputs": [
    {
     "name": "stdout",
     "output_type": "stream",
     "text": [
      "<class 'pandas.core.frame.DataFrame'>\n",
      "Index: 6039 entries, 1999-01-04 to 2022-12-30\n",
      "Data columns (total 6 columns):\n",
      " #   Column     Non-Null Count  Dtype  \n",
      "---  ------     --------------  -----  \n",
      " 0   Open       6039 non-null   float64\n",
      " 1   High       6039 non-null   float64\n",
      " 2   Low        6039 non-null   float64\n",
      " 3   Close      6039 non-null   float64\n",
      " 4   Adj Close  6039 non-null   float64\n",
      " 5   Volume     6039 non-null   int64  \n",
      "dtypes: float64(5), int64(1)\n",
      "memory usage: 330.3+ KB\n"
     ]
    }
   ],
   "source": [
    "amzn.info()"
   ]
  },
  {
   "cell_type": "markdown",
   "id": "e233af9c-7085-4aea-9740-131084d8df49",
   "metadata": {},
   "source": [
    "-- ADD 2023 DATA SET\n",
    "1. Change index date to datetime\n",
    "2. change columns names to lower case\n",
    "--- there is no nulls\n",
    "3. change all decimals for up two-three decimal spaces.\n",
    "4. create data Dictionary\n",
    "5. Divide data as Time Series Analysis\n",
    "5. Data Visualization and exploration\n",
    "6. machine learning application/modeling/ prediction\n",
    "7. assess accuracy. "
   ]
  },
  {
   "cell_type": "code",
   "execution_count": 18,
   "id": "1ab8d9d8-17d2-473b-a631-456d0efb329d",
   "metadata": {
    "tags": []
   },
   "outputs": [],
   "source": [
    "#Change index date to datetime\n",
    "amzn2 = pd.read_csv('AMZN_2023.csv',index_col=0)"
   ]
  },
  {
   "cell_type": "code",
   "execution_count": null,
   "id": "dbb19b23-2fa5-4b46-8eaa-63d046b1e478",
   "metadata": {},
   "outputs": [],
   "source": [
    "amzn2."
   ]
  },
  {
   "cell_type": "code",
   "execution_count": 26,
   "id": "31f81a73-6f48-42cb-a74e-101e6f711a8a",
   "metadata": {
    "tags": []
   },
   "outputs": [],
   "source": [
    "combined_amzn=pd.concat([amzn,amzn2], ignore_index=False)"
   ]
  },
  {
   "cell_type": "code",
   "execution_count": null,
   "id": "921acf86-eb1a-4f26-bfb1-e6e84a721dd4",
   "metadata": {
    "tags": []
   },
   "outputs": [],
   "source": []
  },
  {
   "cell_type": "code",
   "execution_count": 30,
   "id": "7e71c3da-e7d8-4f06-b339-a0989621b226",
   "metadata": {
    "tags": []
   },
   "outputs": [],
   "source": [
    "combined_amzn.to_csv('combined_amzn.csv')"
   ]
  },
  {
   "cell_type": "code",
   "execution_count": 33,
   "id": "8ee04996-7e23-4472-984e-96dce964a9c4",
   "metadata": {
    "tags": []
   },
   "outputs": [],
   "source": [
    "df=pd.read_csv('combined_amzn.csv',index_col=0)"
   ]
  },
  {
   "cell_type": "code",
   "execution_count": 34,
   "id": "1bfb8157-0c4b-4ad4-b3c8-4b6a0c1db970",
   "metadata": {
    "tags": []
   },
   "outputs": [
    {
     "data": {
      "text/html": [
       "<div>\n",
       "<style scoped>\n",
       "    .dataframe tbody tr th:only-of-type {\n",
       "        vertical-align: middle;\n",
       "    }\n",
       "\n",
       "    .dataframe tbody tr th {\n",
       "        vertical-align: top;\n",
       "    }\n",
       "\n",
       "    .dataframe thead th {\n",
       "        text-align: right;\n",
       "    }\n",
       "</style>\n",
       "<table border=\"1\" class=\"dataframe\">\n",
       "  <thead>\n",
       "    <tr style=\"text-align: right;\">\n",
       "      <th></th>\n",
       "      <th>Open</th>\n",
       "      <th>High</th>\n",
       "      <th>Low</th>\n",
       "      <th>Close</th>\n",
       "      <th>Adj Close</th>\n",
       "      <th>Volume</th>\n",
       "    </tr>\n",
       "    <tr>\n",
       "      <th>Date</th>\n",
       "      <th></th>\n",
       "      <th></th>\n",
       "      <th></th>\n",
       "      <th></th>\n",
       "      <th></th>\n",
       "      <th></th>\n",
       "    </tr>\n",
       "  </thead>\n",
       "  <tbody>\n",
       "    <tr>\n",
       "      <th>1999-01-04</th>\n",
       "      <td>2.730729</td>\n",
       "      <td>2.966667</td>\n",
       "      <td>2.665625</td>\n",
       "      <td>2.957813</td>\n",
       "      <td>2.957813</td>\n",
       "      <td>785844000</td>\n",
       "    </tr>\n",
       "    <tr>\n",
       "      <th>1999-01-05</th>\n",
       "      <td>2.739063</td>\n",
       "      <td>3.243750</td>\n",
       "      <td>2.662500</td>\n",
       "      <td>3.112500</td>\n",
       "      <td>3.112500</td>\n",
       "      <td>1257464000</td>\n",
       "    </tr>\n",
       "    <tr>\n",
       "      <th>1999-01-06</th>\n",
       "      <td>3.409375</td>\n",
       "      <td>3.509375</td>\n",
       "      <td>3.350000</td>\n",
       "      <td>3.450000</td>\n",
       "      <td>3.450000</td>\n",
       "      <td>723532000</td>\n",
       "    </tr>\n",
       "    <tr>\n",
       "      <th>1999-01-07</th>\n",
       "      <td>3.428125</td>\n",
       "      <td>4.006250</td>\n",
       "      <td>3.325000</td>\n",
       "      <td>3.971875</td>\n",
       "      <td>3.971875</td>\n",
       "      <td>945492000</td>\n",
       "    </tr>\n",
       "    <tr>\n",
       "      <th>1999-01-08</th>\n",
       "      <td>4.606250</td>\n",
       "      <td>4.978125</td>\n",
       "      <td>3.800000</td>\n",
       "      <td>4.006250</td>\n",
       "      <td>4.006250</td>\n",
       "      <td>1333244000</td>\n",
       "    </tr>\n",
       "  </tbody>\n",
       "</table>\n",
       "</div>"
      ],
      "text/plain": [
       "                Open      High       Low     Close  Adj Close      Volume\n",
       "Date                                                                     \n",
       "1999-01-04  2.730729  2.966667  2.665625  2.957813   2.957813   785844000\n",
       "1999-01-05  2.739063  3.243750  2.662500  3.112500   3.112500  1257464000\n",
       "1999-01-06  3.409375  3.509375  3.350000  3.450000   3.450000   723532000\n",
       "1999-01-07  3.428125  4.006250  3.325000  3.971875   3.971875   945492000\n",
       "1999-01-08  4.606250  4.978125  3.800000  4.006250   4.006250  1333244000"
      ]
     },
     "execution_count": 34,
     "metadata": {},
     "output_type": "execute_result"
    }
   ],
   "source": [
    "df.head()"
   ]
  },
  {
   "cell_type": "code",
   "execution_count": 35,
   "id": "a96a24e7-b12a-4481-b4be-0c382caad557",
   "metadata": {
    "tags": []
   },
   "outputs": [
    {
     "data": {
      "text/html": [
       "<div>\n",
       "<style scoped>\n",
       "    .dataframe tbody tr th:only-of-type {\n",
       "        vertical-align: middle;\n",
       "    }\n",
       "\n",
       "    .dataframe tbody tr th {\n",
       "        vertical-align: top;\n",
       "    }\n",
       "\n",
       "    .dataframe thead th {\n",
       "        text-align: right;\n",
       "    }\n",
       "</style>\n",
       "<table border=\"1\" class=\"dataframe\">\n",
       "  <thead>\n",
       "    <tr style=\"text-align: right;\">\n",
       "      <th></th>\n",
       "      <th>Open</th>\n",
       "      <th>High</th>\n",
       "      <th>Low</th>\n",
       "      <th>Close</th>\n",
       "      <th>Adj Close</th>\n",
       "      <th>Volume</th>\n",
       "    </tr>\n",
       "    <tr>\n",
       "      <th>Date</th>\n",
       "      <th></th>\n",
       "      <th></th>\n",
       "      <th></th>\n",
       "      <th></th>\n",
       "      <th></th>\n",
       "      <th></th>\n",
       "    </tr>\n",
       "  </thead>\n",
       "  <tbody>\n",
       "    <tr>\n",
       "      <th>2023-12-14</th>\n",
       "      <td>149.929993</td>\n",
       "      <td>150.539993</td>\n",
       "      <td>145.520004</td>\n",
       "      <td>147.419998</td>\n",
       "      <td>147.419998</td>\n",
       "      <td>58400800</td>\n",
       "    </tr>\n",
       "    <tr>\n",
       "      <th>2023-12-15</th>\n",
       "      <td>148.380005</td>\n",
       "      <td>150.570007</td>\n",
       "      <td>147.880005</td>\n",
       "      <td>149.970001</td>\n",
       "      <td>149.970001</td>\n",
       "      <td>110039100</td>\n",
       "    </tr>\n",
       "    <tr>\n",
       "      <th>2023-12-18</th>\n",
       "      <td>150.559998</td>\n",
       "      <td>154.850006</td>\n",
       "      <td>150.050003</td>\n",
       "      <td>154.070007</td>\n",
       "      <td>154.070007</td>\n",
       "      <td>62512800</td>\n",
       "    </tr>\n",
       "    <tr>\n",
       "      <th>2023-12-19</th>\n",
       "      <td>154.399994</td>\n",
       "      <td>155.119995</td>\n",
       "      <td>152.690002</td>\n",
       "      <td>153.789993</td>\n",
       "      <td>153.789993</td>\n",
       "      <td>43171300</td>\n",
       "    </tr>\n",
       "    <tr>\n",
       "      <th>2023-12-20</th>\n",
       "      <td>152.899994</td>\n",
       "      <td>155.630005</td>\n",
       "      <td>151.559998</td>\n",
       "      <td>152.119995</td>\n",
       "      <td>152.119995</td>\n",
       "      <td>50258500</td>\n",
       "    </tr>\n",
       "  </tbody>\n",
       "</table>\n",
       "</div>"
      ],
      "text/plain": [
       "                  Open        High         Low       Close   Adj Close  \\\n",
       "Date                                                                     \n",
       "2023-12-14  149.929993  150.539993  145.520004  147.419998  147.419998   \n",
       "2023-12-15  148.380005  150.570007  147.880005  149.970001  149.970001   \n",
       "2023-12-18  150.559998  154.850006  150.050003  154.070007  154.070007   \n",
       "2023-12-19  154.399994  155.119995  152.690002  153.789993  153.789993   \n",
       "2023-12-20  152.899994  155.630005  151.559998  152.119995  152.119995   \n",
       "\n",
       "               Volume  \n",
       "Date                   \n",
       "2023-12-14   58400800  \n",
       "2023-12-15  110039100  \n",
       "2023-12-18   62512800  \n",
       "2023-12-19   43171300  \n",
       "2023-12-20   50258500  "
      ]
     },
     "execution_count": 35,
     "metadata": {},
     "output_type": "execute_result"
    }
   ],
   "source": [
    "df.tail()"
   ]
  },
  {
   "cell_type": "code",
   "execution_count": 51,
   "id": "558afb85-5a09-4659-ae71-be1120495941",
   "metadata": {
    "tags": []
   },
   "outputs": [],
   "source": [
    " #change columns names to lower case --- there is no nulls\n",
    "df = df.rename_axis('date')\n",
    "df= df.rename(columns={'Open':'open','High':'high','Low':'low'\n",
    "                    ,'Close':'close','Adj Close': 'adjusted_close','Volume':'volume'})"
   ]
  },
  {
   "cell_type": "code",
   "execution_count": 52,
   "id": "019cb873-c85f-4ca0-ac0f-22bb9846b77b",
   "metadata": {
    "tags": []
   },
   "outputs": [
    {
     "data": {
      "text/html": [
       "<div>\n",
       "<style scoped>\n",
       "    .dataframe tbody tr th:only-of-type {\n",
       "        vertical-align: middle;\n",
       "    }\n",
       "\n",
       "    .dataframe tbody tr th {\n",
       "        vertical-align: top;\n",
       "    }\n",
       "\n",
       "    .dataframe thead th {\n",
       "        text-align: right;\n",
       "    }\n",
       "</style>\n",
       "<table border=\"1\" class=\"dataframe\">\n",
       "  <thead>\n",
       "    <tr style=\"text-align: right;\">\n",
       "      <th></th>\n",
       "      <th>open</th>\n",
       "      <th>high</th>\n",
       "      <th>low</th>\n",
       "      <th>close</th>\n",
       "      <th>adjusted_close</th>\n",
       "      <th>volume</th>\n",
       "    </tr>\n",
       "    <tr>\n",
       "      <th>date</th>\n",
       "      <th></th>\n",
       "      <th></th>\n",
       "      <th></th>\n",
       "      <th></th>\n",
       "      <th></th>\n",
       "      <th></th>\n",
       "    </tr>\n",
       "  </thead>\n",
       "  <tbody>\n",
       "    <tr>\n",
       "      <th>2003-10-28</th>\n",
       "      <td>2.76</td>\n",
       "      <td>2.85</td>\n",
       "      <td>2.73</td>\n",
       "      <td>2.84</td>\n",
       "      <td>2.84</td>\n",
       "      <td>184618000</td>\n",
       "    </tr>\n",
       "    <tr>\n",
       "      <th>2010-01-06</th>\n",
       "      <td>6.73</td>\n",
       "      <td>6.74</td>\n",
       "      <td>6.58</td>\n",
       "      <td>6.61</td>\n",
       "      <td>6.61</td>\n",
       "      <td>143576000</td>\n",
       "    </tr>\n",
       "    <tr>\n",
       "      <th>2023-02-14</th>\n",
       "      <td>98.41</td>\n",
       "      <td>100.92</td>\n",
       "      <td>97.52</td>\n",
       "      <td>99.70</td>\n",
       "      <td>99.70</td>\n",
       "      <td>56202900</td>\n",
       "    </tr>\n",
       "  </tbody>\n",
       "</table>\n",
       "</div>"
      ],
      "text/plain": [
       "             open    high    low  close  adjusted_close     volume\n",
       "date                                                              \n",
       "2003-10-28   2.76    2.85   2.73   2.84            2.84  184618000\n",
       "2010-01-06   6.73    6.74   6.58   6.61            6.61  143576000\n",
       "2023-02-14  98.41  100.92  97.52  99.70           99.70   56202900"
      ]
     },
     "execution_count": 52,
     "metadata": {},
     "output_type": "execute_result"
    }
   ],
   "source": [
    "#change all decimals for up two decimal spaces.\n",
    "df=df.round(2)\n",
    "df.sample(3)"
   ]
  },
  {
   "cell_type": "code",
   "execution_count": 56,
   "id": "5e4538e2-de83-4dd4-a2a8-dfb31b42a6a5",
   "metadata": {
    "tags": []
   },
   "outputs": [],
   "source": [
    "#change index to datetime\n",
    "df.index = pd.to_datetime(df.index)"
   ]
  },
  {
   "cell_type": "code",
   "execution_count": 57,
   "id": "4d279169-412a-429f-8dba-7a6290cc650c",
   "metadata": {
    "tags": []
   },
   "outputs": [
    {
     "data": {
      "text/html": [
       "<div>\n",
       "<style scoped>\n",
       "    .dataframe tbody tr th:only-of-type {\n",
       "        vertical-align: middle;\n",
       "    }\n",
       "\n",
       "    .dataframe tbody tr th {\n",
       "        vertical-align: top;\n",
       "    }\n",
       "\n",
       "    .dataframe thead th {\n",
       "        text-align: right;\n",
       "    }\n",
       "</style>\n",
       "<table border=\"1\" class=\"dataframe\">\n",
       "  <thead>\n",
       "    <tr style=\"text-align: right;\">\n",
       "      <th></th>\n",
       "      <th>open</th>\n",
       "      <th>high</th>\n",
       "      <th>low</th>\n",
       "      <th>close</th>\n",
       "      <th>adjusted_close</th>\n",
       "      <th>volume</th>\n",
       "    </tr>\n",
       "    <tr>\n",
       "      <th>date</th>\n",
       "      <th></th>\n",
       "      <th></th>\n",
       "      <th></th>\n",
       "      <th></th>\n",
       "      <th></th>\n",
       "      <th></th>\n",
       "    </tr>\n",
       "  </thead>\n",
       "  <tbody>\n",
       "    <tr>\n",
       "      <th>2023-05-30</th>\n",
       "      <td>122.37</td>\n",
       "      <td>122.92</td>\n",
       "      <td>119.86</td>\n",
       "      <td>121.66</td>\n",
       "      <td>121.66</td>\n",
       "      <td>64314800</td>\n",
       "    </tr>\n",
       "    <tr>\n",
       "      <th>2004-09-15</th>\n",
       "      <td>2.10</td>\n",
       "      <td>2.16</td>\n",
       "      <td>2.09</td>\n",
       "      <td>2.11</td>\n",
       "      <td>2.11</td>\n",
       "      <td>222716000</td>\n",
       "    </tr>\n",
       "    <tr>\n",
       "      <th>2020-07-22</th>\n",
       "      <td>156.25</td>\n",
       "      <td>157.50</td>\n",
       "      <td>153.26</td>\n",
       "      <td>155.00</td>\n",
       "      <td>155.00</td>\n",
       "      <td>82084000</td>\n",
       "    </tr>\n",
       "    <tr>\n",
       "      <th>2014-01-21</th>\n",
       "      <td>20.15</td>\n",
       "      <td>20.39</td>\n",
       "      <td>20.08</td>\n",
       "      <td>20.35</td>\n",
       "      <td>20.35</td>\n",
       "      <td>62442000</td>\n",
       "    </tr>\n",
       "  </tbody>\n",
       "</table>\n",
       "</div>"
      ],
      "text/plain": [
       "              open    high     low   close  adjusted_close     volume\n",
       "date                                                                 \n",
       "2023-05-30  122.37  122.92  119.86  121.66          121.66   64314800\n",
       "2004-09-15    2.10    2.16    2.09    2.11            2.11  222716000\n",
       "2020-07-22  156.25  157.50  153.26  155.00          155.00   82084000\n",
       "2014-01-21   20.15   20.39   20.08   20.35           20.35   62442000"
      ]
     },
     "execution_count": 57,
     "metadata": {},
     "output_type": "execute_result"
    }
   ],
   "source": [
    "df.sample(4)"
   ]
  },
  {
   "cell_type": "code",
   "execution_count": 59,
   "id": "e5d54cb7-0653-4601-8849-d6c135f6d5f4",
   "metadata": {
    "tags": []
   },
   "outputs": [
    {
     "name": "stdout",
     "output_type": "stream",
     "text": [
      "<class 'pandas.core.frame.DataFrame'>\n",
      "DatetimeIndex: 6283 entries, 1999-01-04 to 2023-12-20\n",
      "Data columns (total 6 columns):\n",
      " #   Column          Non-Null Count  Dtype  \n",
      "---  ------          --------------  -----  \n",
      " 0   open            6283 non-null   float64\n",
      " 1   high            6283 non-null   float64\n",
      " 2   low             6283 non-null   float64\n",
      " 3   close           6283 non-null   float64\n",
      " 4   adjusted_close  6283 non-null   float64\n",
      " 5   volume          6283 non-null   int64  \n",
      "dtypes: float64(5), int64(1)\n",
      "memory usage: 343.6 KB\n"
     ]
    }
   ],
   "source": [
    "df.info()"
   ]
  },
  {
   "cell_type": "markdown",
   "id": "6fcf852e-2453-41a8-b5e9-45dd0bec6482",
   "metadata": {},
   "source": [
    "### data dictionary created on pages"
   ]
  },
  {
   "cell_type": "code",
   "execution_count": 71,
   "id": "c9cfaebf-026d-4e49-9e30-b58334f554c8",
   "metadata": {
    "tags": []
   },
   "outputs": [],
   "source": [
    "#divide df into train/test time series analysi\n",
    "train_size = 0.70 \n",
    "n = df.shape[0] \n",
    "test_start_index = round(train_size * n) \n",
    "train = df.iloc[:test_start_index] #end at the test_start_index\n",
    "test = df.iloc[test_start_index:] # start at the test_start_index"
   ]
  },
  {
   "cell_type": "code",
   "execution_count": 70,
   "id": "91c84f7a-c53a-4eb5-9be0-1ce6b4fa7cb6",
   "metadata": {
    "tags": []
   },
   "outputs": [
    {
     "data": {
      "text/plain": [
       "[<matplotlib.lines.Line2D at 0x17a583450>]"
      ]
     },
     "execution_count": 70,
     "metadata": {},
     "output_type": "execute_result"
    },
    {
     "data": {
      "image/png": "[encoded data removed]",
      "text/plain": [
       "<Figure size 640x480 with 1 Axes>"
      ]
     },
     "metadata": {},
     "output_type": "display_data"
    }
   ],
   "source": [
    "plt.plot(train.adjusted_close)\n",
    "plt.plot(test.adjusted_close"
   ]
  },
  {
   "cell_type": "markdown",
   "id": "6187f501-d40a-4b0e-aaee-533a63c2a951",
   "metadata": {
    "tags": []
   },
   "source": [
    "## Will be working with quarterly numbers for exploration and modeling purposes"
   ]
  },
  {
   "cell_type": "code",
   "execution_count": 80,
   "id": "101ef595-2e45-4fdf-86a3-7b47b78d84db",
   "metadata": {
    "tags": []
   },
   "outputs": [],
   "source": [
    "train_q = train.resample('Q').mean()\n",
    "test_q= test.resample('Q').mean()"
   ]
  },
  {
   "cell_type": "code",
   "execution_count": 81,
   "id": "eaa491e7-cb97-4c04-86c7-c352a669655a",
   "metadata": {
    "tags": []
   },
   "outputs": [
    {
     "data": {
      "text/html": [
       "<div>\n",
       "<style scoped>\n",
       "    .dataframe tbody tr th:only-of-type {\n",
       "        vertical-align: middle;\n",
       "    }\n",
       "\n",
       "    .dataframe tbody tr th {\n",
       "        vertical-align: top;\n",
       "    }\n",
       "\n",
       "    .dataframe thead th {\n",
       "        text-align: right;\n",
       "    }\n",
       "</style>\n",
       "<table border=\"1\" class=\"dataframe\">\n",
       "  <thead>\n",
       "    <tr style=\"text-align: right;\">\n",
       "      <th></th>\n",
       "      <th>open</th>\n",
       "      <th>high</th>\n",
       "      <th>low</th>\n",
       "      <th>close</th>\n",
       "      <th>adjusted_close</th>\n",
       "      <th>volume</th>\n",
       "    </tr>\n",
       "    <tr>\n",
       "      <th>date</th>\n",
       "      <th></th>\n",
       "      <th></th>\n",
       "      <th></th>\n",
       "      <th></th>\n",
       "      <th></th>\n",
       "      <th></th>\n",
       "    </tr>\n",
       "  </thead>\n",
       "  <tbody>\n",
       "    <tr>\n",
       "      <th>2003-06-30</th>\n",
       "      <td>1.556508</td>\n",
       "      <td>1.585556</td>\n",
       "      <td>1.531111</td>\n",
       "      <td>1.561111</td>\n",
       "      <td>1.561111</td>\n",
       "      <td>1.847457e+08</td>\n",
       "    </tr>\n",
       "    <tr>\n",
       "      <th>2012-03-31</th>\n",
       "      <td>9.255323</td>\n",
       "      <td>9.396935</td>\n",
       "      <td>9.152581</td>\n",
       "      <td>9.302419</td>\n",
       "      <td>9.302419</td>\n",
       "      <td>1.193846e+08</td>\n",
       "    </tr>\n",
       "    <tr>\n",
       "      <th>2013-12-31</th>\n",
       "      <td>17.967969</td>\n",
       "      <td>18.142969</td>\n",
       "      <td>17.770312</td>\n",
       "      <td>17.981094</td>\n",
       "      <td>17.981094</td>\n",
       "      <td>5.849681e+07</td>\n",
       "    </tr>\n",
       "    <tr>\n",
       "      <th>2010-09-30</th>\n",
       "      <td>6.473594</td>\n",
       "      <td>6.580625</td>\n",
       "      <td>6.403750</td>\n",
       "      <td>6.522344</td>\n",
       "      <td>6.522344</td>\n",
       "      <td>1.322084e+08</td>\n",
       "    </tr>\n",
       "    <tr>\n",
       "      <th>2005-12-31</th>\n",
       "      <td>2.282222</td>\n",
       "      <td>2.310794</td>\n",
       "      <td>2.256032</td>\n",
       "      <td>2.285556</td>\n",
       "      <td>2.285556</td>\n",
       "      <td>1.538423e+08</td>\n",
       "    </tr>\n",
       "    <tr>\n",
       "      <th>2011-03-31</th>\n",
       "      <td>8.836452</td>\n",
       "      <td>8.942581</td>\n",
       "      <td>8.737581</td>\n",
       "      <td>8.847097</td>\n",
       "      <td>8.847097</td>\n",
       "      <td>1.059248e+08</td>\n",
       "    </tr>\n",
       "  </tbody>\n",
       "</table>\n",
       "</div>"
      ],
      "text/plain": [
       "                 open       high        low      close  adjusted_close  \\\n",
       "date                                                                     \n",
       "2003-06-30   1.556508   1.585556   1.531111   1.561111        1.561111   \n",
       "2012-03-31   9.255323   9.396935   9.152581   9.302419        9.302419   \n",
       "2013-12-31  17.967969  18.142969  17.770312  17.981094       17.981094   \n",
       "2010-09-30   6.473594   6.580625   6.403750   6.522344        6.522344   \n",
       "2005-12-31   2.282222   2.310794   2.256032   2.285556        2.285556   \n",
       "2011-03-31   8.836452   8.942581   8.737581   8.847097        8.847097   \n",
       "\n",
       "                  volume  \n",
       "date                      \n",
       "2003-06-30  1.847457e+08  \n",
       "2012-03-31  1.193846e+08  \n",
       "2013-12-31  5.849681e+07  \n",
       "2010-09-30  1.322084e+08  \n",
       "2005-12-31  1.538423e+08  \n",
       "2011-03-31  1.059248e+08  "
      ]
     },
     "execution_count": 81,
     "metadata": {},
     "output_type": "execute_result"
    }
   ],
   "source": [
    "train_q.sample(6)"
   ]
  },
  {
   "cell_type": "code",
   "execution_count": null,
   "id": "fd8ea3c0-8c2e-4388-a267-c200f31e6e9b",
   "metadata": {
    "tags": []
   },
   "outputs": [],
   "source": []
  },
  {
   "cell_type": "code",
   "execution_count": null,
   "id": "aedd5b72-8662-4b1e-887f-60a8bd46f38f",
   "metadata": {},
   "outputs": [],
   "source": []
  }
 ],
 "metadata": {
  "kernelspec": {
   "display_name": "Python 3 (ipykernel)",
   "language": "python",
   "name": "python3"
  },
  "language_info": {
   "codemirror_mode": {
    "name": "ipython",
    "version": 3
   },
   "file_extension": ".py",
   "mimetype": "text/x-python",
   "name": "python",
   "nbconvert_exporter": "python",
   "pygments_lexer": "ipython3",
   "version": "3.11.4"
  }
 },
 "nbformat": 4,
 "nbformat_minor": 5
}
