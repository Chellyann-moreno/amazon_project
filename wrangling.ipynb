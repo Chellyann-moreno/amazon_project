{
 "cells": [
  {
   "cell_type": "code",
   "execution_count": 2,
   "id": "5eeb3abc-127c-4ac9-9c12-afe5120d3f5d",
   "metadata": {},
   "outputs": [],
   "source": [
    "import os\n",
    "import pandas as pd\n",
    "import matplotlib.pyplot as plt\n",
    "import numpy as np\n",
    "import seaborn as sns\n",
    "import talib\n",
    "\n",
    "\n"
   ]
  },
  {
   "cell_type": "code",
   "execution_count": 3,
   "id": "d3a0515b-5bd7-4eb3-9068-0ca0b75d7728",
   "metadata": {
    "tags": []
   },
   "outputs": [],
   "source": [
    "amzn=pd.read_csv('AMZN_data.csv',index_col=0)\n"
   ]
  },
  {
   "cell_type": "code",
   "execution_count": 4,
   "id": "3c44df75-39d3-46f5-9def-be8137558a95",
   "metadata": {
    "tags": []
   },
   "outputs": [
    {
     "data": {
      "text/html": [
       "<div>\n",
       "<style scoped>\n",
       "    .dataframe tbody tr th:only-of-type {\n",
       "        vertical-align: middle;\n",
       "    }\n",
       "\n",
       "    .dataframe tbody tr th {\n",
       "        vertical-align: top;\n",
       "    }\n",
       "\n",
       "    .dataframe thead th {\n",
       "        text-align: right;\n",
       "    }\n",
       "</style>\n",
       "<table border=\"1\" class=\"dataframe\">\n",
       "  <thead>\n",
       "    <tr style=\"text-align: right;\">\n",
       "      <th></th>\n",
       "      <th>Open</th>\n",
       "      <th>High</th>\n",
       "      <th>Low</th>\n",
       "      <th>Close</th>\n",
       "      <th>Adj Close</th>\n",
       "      <th>Volume</th>\n",
       "    </tr>\n",
       "    <tr>\n",
       "      <th>Date</th>\n",
       "      <th></th>\n",
       "      <th></th>\n",
       "      <th></th>\n",
       "      <th></th>\n",
       "      <th></th>\n",
       "      <th></th>\n",
       "    </tr>\n",
       "  </thead>\n",
       "  <tbody>\n",
       "    <tr>\n",
       "      <th>1999-01-04</th>\n",
       "      <td>2.730729</td>\n",
       "      <td>2.966667</td>\n",
       "      <td>2.665625</td>\n",
       "      <td>2.957813</td>\n",
       "      <td>2.957813</td>\n",
       "      <td>785844000</td>\n",
       "    </tr>\n",
       "    <tr>\n",
       "      <th>1999-01-05</th>\n",
       "      <td>2.739063</td>\n",
       "      <td>3.243750</td>\n",
       "      <td>2.662500</td>\n",
       "      <td>3.112500</td>\n",
       "      <td>3.112500</td>\n",
       "      <td>1257464000</td>\n",
       "    </tr>\n",
       "    <tr>\n",
       "      <th>1999-01-06</th>\n",
       "      <td>3.409375</td>\n",
       "      <td>3.509375</td>\n",
       "      <td>3.350000</td>\n",
       "      <td>3.450000</td>\n",
       "      <td>3.450000</td>\n",
       "      <td>723532000</td>\n",
       "    </tr>\n",
       "    <tr>\n",
       "      <th>1999-01-07</th>\n",
       "      <td>3.428125</td>\n",
       "      <td>4.006250</td>\n",
       "      <td>3.325000</td>\n",
       "      <td>3.971875</td>\n",
       "      <td>3.971875</td>\n",
       "      <td>945492000</td>\n",
       "    </tr>\n",
       "    <tr>\n",
       "      <th>1999-01-08</th>\n",
       "      <td>4.606250</td>\n",
       "      <td>4.978125</td>\n",
       "      <td>3.800000</td>\n",
       "      <td>4.006250</td>\n",
       "      <td>4.006250</td>\n",
       "      <td>1333244000</td>\n",
       "    </tr>\n",
       "  </tbody>\n",
       "</table>\n",
       "</div>"
      ],
      "text/plain": [
       "                Open      High       Low     Close  Adj Close      Volume\n",
       "Date                                                                     \n",
       "1999-01-04  2.730729  2.966667  2.665625  2.957813   2.957813   785844000\n",
       "1999-01-05  2.739063  3.243750  2.662500  3.112500   3.112500  1257464000\n",
       "1999-01-06  3.409375  3.509375  3.350000  3.450000   3.450000   723532000\n",
       "1999-01-07  3.428125  4.006250  3.325000  3.971875   3.971875   945492000\n",
       "1999-01-08  4.606250  4.978125  3.800000  4.006250   4.006250  1333244000"
      ]
     },
     "execution_count": 4,
     "metadata": {},
     "output_type": "execute_result"
    }
   ],
   "source": [
    "amzn.head()"
   ]
  },
  {
   "cell_type": "code",
   "execution_count": 5,
   "id": "f1778a4f-8753-4068-b477-769b0158d5e9",
   "metadata": {
    "tags": []
   },
   "outputs": [
    {
     "data": {
      "text/html": [
       "<div>\n",
       "<style scoped>\n",
       "    .dataframe tbody tr th:only-of-type {\n",
       "        vertical-align: middle;\n",
       "    }\n",
       "\n",
       "    .dataframe tbody tr th {\n",
       "        vertical-align: top;\n",
       "    }\n",
       "\n",
       "    .dataframe thead th {\n",
       "        text-align: right;\n",
       "    }\n",
       "</style>\n",
       "<table border=\"1\" class=\"dataframe\">\n",
       "  <thead>\n",
       "    <tr style=\"text-align: right;\">\n",
       "      <th></th>\n",
       "      <th>Open</th>\n",
       "      <th>High</th>\n",
       "      <th>Low</th>\n",
       "      <th>Close</th>\n",
       "      <th>Adj Close</th>\n",
       "      <th>Volume</th>\n",
       "    </tr>\n",
       "    <tr>\n",
       "      <th>Date</th>\n",
       "      <th></th>\n",
       "      <th></th>\n",
       "      <th></th>\n",
       "      <th></th>\n",
       "      <th></th>\n",
       "      <th></th>\n",
       "    </tr>\n",
       "  </thead>\n",
       "  <tbody>\n",
       "    <tr>\n",
       "      <th>2022-12-23</th>\n",
       "      <td>83.250000</td>\n",
       "      <td>85.779999</td>\n",
       "      <td>82.930000</td>\n",
       "      <td>85.250000</td>\n",
       "      <td>85.250000</td>\n",
       "      <td>57433700</td>\n",
       "    </tr>\n",
       "    <tr>\n",
       "      <th>2022-12-27</th>\n",
       "      <td>84.970001</td>\n",
       "      <td>85.349998</td>\n",
       "      <td>83.000000</td>\n",
       "      <td>83.040001</td>\n",
       "      <td>83.040001</td>\n",
       "      <td>57284000</td>\n",
       "    </tr>\n",
       "    <tr>\n",
       "      <th>2022-12-28</th>\n",
       "      <td>82.800003</td>\n",
       "      <td>83.480003</td>\n",
       "      <td>81.690002</td>\n",
       "      <td>81.820000</td>\n",
       "      <td>81.820000</td>\n",
       "      <td>58228600</td>\n",
       "    </tr>\n",
       "    <tr>\n",
       "      <th>2022-12-29</th>\n",
       "      <td>82.870003</td>\n",
       "      <td>84.550003</td>\n",
       "      <td>82.550003</td>\n",
       "      <td>84.180000</td>\n",
       "      <td>84.180000</td>\n",
       "      <td>54995900</td>\n",
       "    </tr>\n",
       "    <tr>\n",
       "      <th>2022-12-30</th>\n",
       "      <td>83.120003</td>\n",
       "      <td>84.050003</td>\n",
       "      <td>82.470001</td>\n",
       "      <td>84.000000</td>\n",
       "      <td>84.000000</td>\n",
       "      <td>62401200</td>\n",
       "    </tr>\n",
       "  </tbody>\n",
       "</table>\n",
       "</div>"
      ],
      "text/plain": [
       "                 Open       High        Low      Close  Adj Close    Volume\n",
       "Date                                                                       \n",
       "2022-12-23  83.250000  85.779999  82.930000  85.250000  85.250000  57433700\n",
       "2022-12-27  84.970001  85.349998  83.000000  83.040001  83.040001  57284000\n",
       "2022-12-28  82.800003  83.480003  81.690002  81.820000  81.820000  58228600\n",
       "2022-12-29  82.870003  84.550003  82.550003  84.180000  84.180000  54995900\n",
       "2022-12-30  83.120003  84.050003  82.470001  84.000000  84.000000  62401200"
      ]
     },
     "execution_count": 5,
     "metadata": {},
     "output_type": "execute_result"
    }
   ],
   "source": [
    "amzn.tail()"
   ]
  },
  {
   "cell_type": "code",
   "execution_count": 6,
   "id": "de955c98-0ff2-4a7f-adee-f65068835a8d",
   "metadata": {
    "tags": []
   },
   "outputs": [
    {
     "name": "stdout",
     "output_type": "stream",
     "text": [
      "<class 'pandas.core.frame.DataFrame'>\n",
      "Index: 6039 entries, 1999-01-04 to 2022-12-30\n",
      "Data columns (total 6 columns):\n",
      " #   Column     Non-Null Count  Dtype  \n",
      "---  ------     --------------  -----  \n",
      " 0   Open       6039 non-null   float64\n",
      " 1   High       6039 non-null   float64\n",
      " 2   Low        6039 non-null   float64\n",
      " 3   Close      6039 non-null   float64\n",
      " 4   Adj Close  6039 non-null   float64\n",
      " 5   Volume     6039 non-null   int64  \n",
      "dtypes: float64(5), int64(1)\n",
      "memory usage: 330.3+ KB\n"
     ]
    }
   ],
   "source": [
    "amzn.info()"
   ]
  },
  {
   "cell_type": "markdown",
   "id": "e233af9c-7085-4aea-9740-131084d8df49",
   "metadata": {},
   "source": [
    "-- ADD 2023 DATA SET\n",
    "1. Change index date to datetime\n",
    "2. change columns names to lower case\n",
    "--- there is no nulls\n",
    "3. change all decimals for up two-three decimal spaces.\n",
    "4. create data Dictionary\n",
    "5. Divide data as Time Series Analysis\n",
    "5. Data Visualization and exploration\n",
    "6. machine learning application/modeling/ prediction\n",
    "7. assess accuracy. "
   ]
  },
  {
   "cell_type": "code",
   "execution_count": 18,
   "id": "1ab8d9d8-17d2-473b-a631-456d0efb329d",
   "metadata": {
    "tags": []
   },
   "outputs": [],
   "source": [
    "amzn2 = pd.read_csv('AMZN_2023.csv',index_col=0)"
   ]
  },
  {
   "cell_type": "code",
   "execution_count": null,
   "id": "dbb19b23-2fa5-4b46-8eaa-63d046b1e478",
   "metadata": {},
   "outputs": [],
   "source": [
    "amzn2."
   ]
  },
  {
   "cell_type": "code",
   "execution_count": 26,
   "id": "31f81a73-6f48-42cb-a74e-101e6f711a8a",
   "metadata": {
    "tags": []
   },
   "outputs": [],
   "source": [
    "combined_amzn=pd.concat([amzn,amzn2], ignore_index=False)"
   ]
  },
  {
   "cell_type": "code",
   "execution_count": null,
   "id": "921acf86-eb1a-4f26-bfb1-e6e84a721dd4",
   "metadata": {
    "tags": []
   },
   "outputs": [],
   "source": []
  },
  {
   "cell_type": "code",
   "execution_count": 30,
   "id": "7e71c3da-e7d8-4f06-b339-a0989621b226",
   "metadata": {
    "tags": []
   },
   "outputs": [],
   "source": [
    "combined_amzn.to_csv('combined_amzn.csv')"
   ]
  },
  {
   "cell_type": "code",
   "execution_count": 33,
   "id": "8ee04996-7e23-4472-984e-96dce964a9c4",
   "metadata": {
    "tags": []
   },
   "outputs": [],
   "source": [
    "df=pd.read_csv('combined_amzn.csv',index_col=0)"
   ]
  },
  {
   "cell_type": "code",
   "execution_count": 34,
   "id": "1bfb8157-0c4b-4ad4-b3c8-4b6a0c1db970",
   "metadata": {
    "tags": []
   },
   "outputs": [
    {
     "data": {
      "text/html": [
       "<div>\n",
       "<style scoped>\n",
       "    .dataframe tbody tr th:only-of-type {\n",
       "        vertical-align: middle;\n",
       "    }\n",
       "\n",
       "    .dataframe tbody tr th {\n",
       "        vertical-align: top;\n",
       "    }\n",
       "\n",
       "    .dataframe thead th {\n",
       "        text-align: right;\n",
       "    }\n",
       "</style>\n",
       "<table border=\"1\" class=\"dataframe\">\n",
       "  <thead>\n",
       "    <tr style=\"text-align: right;\">\n",
       "      <th></th>\n",
       "      <th>Open</th>\n",
       "      <th>High</th>\n",
       "      <th>Low</th>\n",
       "      <th>Close</th>\n",
       "      <th>Adj Close</th>\n",
       "      <th>Volume</th>\n",
       "    </tr>\n",
       "    <tr>\n",
       "      <th>Date</th>\n",
       "      <th></th>\n",
       "      <th></th>\n",
       "      <th></th>\n",
       "      <th></th>\n",
       "      <th></th>\n",
       "      <th></th>\n",
       "    </tr>\n",
       "  </thead>\n",
       "  <tbody>\n",
       "    <tr>\n",
       "      <th>1999-01-04</th>\n",
       "      <td>2.730729</td>\n",
       "      <td>2.966667</td>\n",
       "      <td>2.665625</td>\n",
       "      <td>2.957813</td>\n",
       "      <td>2.957813</td>\n",
       "      <td>785844000</td>\n",
       "    </tr>\n",
       "    <tr>\n",
       "      <th>1999-01-05</th>\n",
       "      <td>2.739063</td>\n",
       "      <td>3.243750</td>\n",
       "      <td>2.662500</td>\n",
       "      <td>3.112500</td>\n",
       "      <td>3.112500</td>\n",
       "      <td>1257464000</td>\n",
       "    </tr>\n",
       "    <tr>\n",
       "      <th>1999-01-06</th>\n",
       "      <td>3.409375</td>\n",
       "      <td>3.509375</td>\n",
       "      <td>3.350000</td>\n",
       "      <td>3.450000</td>\n",
       "      <td>3.450000</td>\n",
       "      <td>723532000</td>\n",
       "    </tr>\n",
       "    <tr>\n",
       "      <th>1999-01-07</th>\n",
       "      <td>3.428125</td>\n",
       "      <td>4.006250</td>\n",
       "      <td>3.325000</td>\n",
       "      <td>3.971875</td>\n",
       "      <td>3.971875</td>\n",
       "      <td>945492000</td>\n",
       "    </tr>\n",
       "    <tr>\n",
       "      <th>1999-01-08</th>\n",
       "      <td>4.606250</td>\n",
       "      <td>4.978125</td>\n",
       "      <td>3.800000</td>\n",
       "      <td>4.006250</td>\n",
       "      <td>4.006250</td>\n",
       "      <td>1333244000</td>\n",
       "    </tr>\n",
       "  </tbody>\n",
       "</table>\n",
       "</div>"
      ],
      "text/plain": [
       "                Open      High       Low     Close  Adj Close      Volume\n",
       "Date                                                                     \n",
       "1999-01-04  2.730729  2.966667  2.665625  2.957813   2.957813   785844000\n",
       "1999-01-05  2.739063  3.243750  2.662500  3.112500   3.112500  1257464000\n",
       "1999-01-06  3.409375  3.509375  3.350000  3.450000   3.450000   723532000\n",
       "1999-01-07  3.428125  4.006250  3.325000  3.971875   3.971875   945492000\n",
       "1999-01-08  4.606250  4.978125  3.800000  4.006250   4.006250  1333244000"
      ]
     },
     "execution_count": 34,
     "metadata": {},
     "output_type": "execute_result"
    }
   ],
   "source": [
    "df.head()"
   ]
  },
  {
   "cell_type": "code",
   "execution_count": 35,
   "id": "a96a24e7-b12a-4481-b4be-0c382caad557",
   "metadata": {
    "tags": []
   },
   "outputs": [
    {
     "data": {
      "text/html": [
       "<div>\n",
       "<style scoped>\n",
       "    .dataframe tbody tr th:only-of-type {\n",
       "        vertical-align: middle;\n",
       "    }\n",
       "\n",
       "    .dataframe tbody tr th {\n",
       "        vertical-align: top;\n",
       "    }\n",
       "\n",
       "    .dataframe thead th {\n",
       "        text-align: right;\n",
       "    }\n",
       "</style>\n",
       "<table border=\"1\" class=\"dataframe\">\n",
       "  <thead>\n",
       "    <tr style=\"text-align: right;\">\n",
       "      <th></th>\n",
       "      <th>Open</th>\n",
       "      <th>High</th>\n",
       "      <th>Low</th>\n",
       "      <th>Close</th>\n",
       "      <th>Adj Close</th>\n",
       "      <th>Volume</th>\n",
       "    </tr>\n",
       "    <tr>\n",
       "      <th>Date</th>\n",
       "      <th></th>\n",
       "      <th></th>\n",
       "      <th></th>\n",
       "      <th></th>\n",
       "      <th></th>\n",
       "      <th></th>\n",
       "    </tr>\n",
       "  </thead>\n",
       "  <tbody>\n",
       "    <tr>\n",
       "      <th>2023-12-14</th>\n",
       "      <td>149.929993</td>\n",
       "      <td>150.539993</td>\n",
       "      <td>145.520004</td>\n",
       "      <td>147.419998</td>\n",
       "      <td>147.419998</td>\n",
       "      <td>58400800</td>\n",
       "    </tr>\n",
       "    <tr>\n",
       "      <th>2023-12-15</th>\n",
       "      <td>148.380005</td>\n",
       "      <td>150.570007</td>\n",
       "      <td>147.880005</td>\n",
       "      <td>149.970001</td>\n",
       "      <td>149.970001</td>\n",
       "      <td>110039100</td>\n",
       "    </tr>\n",
       "    <tr>\n",
       "      <th>2023-12-18</th>\n",
       "      <td>150.559998</td>\n",
       "      <td>154.850006</td>\n",
       "      <td>150.050003</td>\n",
       "      <td>154.070007</td>\n",
       "      <td>154.070007</td>\n",
       "      <td>62512800</td>\n",
       "    </tr>\n",
       "    <tr>\n",
       "      <th>2023-12-19</th>\n",
       "      <td>154.399994</td>\n",
       "      <td>155.119995</td>\n",
       "      <td>152.690002</td>\n",
       "      <td>153.789993</td>\n",
       "      <td>153.789993</td>\n",
       "      <td>43171300</td>\n",
       "    </tr>\n",
       "    <tr>\n",
       "      <th>2023-12-20</th>\n",
       "      <td>152.899994</td>\n",
       "      <td>155.630005</td>\n",
       "      <td>151.559998</td>\n",
       "      <td>152.119995</td>\n",
       "      <td>152.119995</td>\n",
       "      <td>50258500</td>\n",
       "    </tr>\n",
       "  </tbody>\n",
       "</table>\n",
       "</div>"
      ],
      "text/plain": [
       "                  Open        High         Low       Close   Adj Close  \\\n",
       "Date                                                                     \n",
       "2023-12-14  149.929993  150.539993  145.520004  147.419998  147.419998   \n",
       "2023-12-15  148.380005  150.570007  147.880005  149.970001  149.970001   \n",
       "2023-12-18  150.559998  154.850006  150.050003  154.070007  154.070007   \n",
       "2023-12-19  154.399994  155.119995  152.690002  153.789993  153.789993   \n",
       "2023-12-20  152.899994  155.630005  151.559998  152.119995  152.119995   \n",
       "\n",
       "               Volume  \n",
       "Date                   \n",
       "2023-12-14   58400800  \n",
       "2023-12-15  110039100  \n",
       "2023-12-18   62512800  \n",
       "2023-12-19   43171300  \n",
       "2023-12-20   50258500  "
      ]
     },
     "execution_count": 35,
     "metadata": {},
     "output_type": "execute_result"
    }
   ],
   "source": [
    "df.tail()"
   ]
  },
  {
   "cell_type": "code",
   "execution_count": null,
   "id": "558afb85-5a09-4659-ae71-be1120495941",
   "metadata": {},
   "outputs": [],
   "source": []
  }
 ],
 "metadata": {
  "kernelspec": {
   "display_name": "Python 3 (ipykernel)",
   "language": "python",
   "name": "python3"
  },
  "language_info": {
   "codemirror_mode": {
    "name": "ipython",
    "version": 3
   },
   "file_extension": ".py",
   "mimetype": "text/x-python",
   "name": "python",
   "nbconvert_exporter": "python",
   "pygments_lexer": "ipython3",
   "version": "3.11.4"
  }
 },
 "nbformat": 4,
 "nbformat_minor": 5
}
