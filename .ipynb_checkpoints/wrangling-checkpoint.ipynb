{
 "cells": [
  {
   "cell_type": "code",
   "execution_count": 2,
   "id": "5eeb3abc-127c-4ac9-9c12-afe5120d3f5d",
   "metadata": {},
   "outputs": [],
   "source": [
    "import os\n",
    "import pandas as pd\n",
    "import matplotlib.pyplot as plt\n",
    "import numpy as np\n",
    "import seaborn as sns\n",
    "import talib\n",
    "\n",
    "\n"
   ]
  },
  {
   "cell_type": "code",
   "execution_count": 6,
   "id": "d3a0515b-5bd7-4eb3-9068-0ca0b75d7728",
   "metadata": {
    "tags": []
   },
   "outputs": [],
   "source": [
    "amzn=pd.read_csv('AMZN_data.csv',index_col=0)\n"
   ]
  },
  {
   "cell_type": "code",
   "execution_count": 7,
   "id": "3c44df75-39d3-46f5-9def-be8137558a95",
   "metadata": {
    "tags": []
   },
   "outputs": [
    {
     "data": {
      "text/html": [
       "<div>\n",
       "<style scoped>\n",
       "    .dataframe tbody tr th:only-of-type {\n",
       "        vertical-align: middle;\n",
       "    }\n",
       "\n",
       "    .dataframe tbody tr th {\n",
       "        vertical-align: top;\n",
       "    }\n",
       "\n",
       "    .dataframe thead th {\n",
       "        text-align: right;\n",
       "    }\n",
       "</style>\n",
       "<table border=\"1\" class=\"dataframe\">\n",
       "  <thead>\n",
       "    <tr style=\"text-align: right;\">\n",
       "      <th></th>\n",
       "      <th>Open</th>\n",
       "      <th>High</th>\n",
       "      <th>Low</th>\n",
       "      <th>Close</th>\n",
       "      <th>Adj Close</th>\n",
       "      <th>Volume</th>\n",
       "    </tr>\n",
       "    <tr>\n",
       "      <th>Date</th>\n",
       "      <th></th>\n",
       "      <th></th>\n",
       "      <th></th>\n",
       "      <th></th>\n",
       "      <th></th>\n",
       "      <th></th>\n",
       "    </tr>\n",
       "  </thead>\n",
       "  <tbody>\n",
       "    <tr>\n",
       "      <th>1999-01-04</th>\n",
       "      <td>2.730729</td>\n",
       "      <td>2.966667</td>\n",
       "      <td>2.665625</td>\n",
       "      <td>2.957813</td>\n",
       "      <td>2.957813</td>\n",
       "      <td>785844000</td>\n",
       "    </tr>\n",
       "    <tr>\n",
       "      <th>1999-01-05</th>\n",
       "      <td>2.739063</td>\n",
       "      <td>3.243750</td>\n",
       "      <td>2.662500</td>\n",
       "      <td>3.112500</td>\n",
       "      <td>3.112500</td>\n",
       "      <td>1257464000</td>\n",
       "    </tr>\n",
       "    <tr>\n",
       "      <th>1999-01-06</th>\n",
       "      <td>3.409375</td>\n",
       "      <td>3.509375</td>\n",
       "      <td>3.350000</td>\n",
       "      <td>3.450000</td>\n",
       "      <td>3.450000</td>\n",
       "      <td>723532000</td>\n",
       "    </tr>\n",
       "    <tr>\n",
       "      <th>1999-01-07</th>\n",
       "      <td>3.428125</td>\n",
       "      <td>4.006250</td>\n",
       "      <td>3.325000</td>\n",
       "      <td>3.971875</td>\n",
       "      <td>3.971875</td>\n",
       "      <td>945492000</td>\n",
       "    </tr>\n",
       "    <tr>\n",
       "      <th>1999-01-08</th>\n",
       "      <td>4.606250</td>\n",
       "      <td>4.978125</td>\n",
       "      <td>3.800000</td>\n",
       "      <td>4.006250</td>\n",
       "      <td>4.006250</td>\n",
       "      <td>1333244000</td>\n",
       "    </tr>\n",
       "  </tbody>\n",
       "</table>\n",
       "</div>"
      ],
      "text/plain": [
       "                Open      High       Low     Close  Adj Close      Volume\n",
       "Date                                                                     \n",
       "1999-01-04  2.730729  2.966667  2.665625  2.957813   2.957813   785844000\n",
       "1999-01-05  2.739063  3.243750  2.662500  3.112500   3.112500  1257464000\n",
       "1999-01-06  3.409375  3.509375  3.350000  3.450000   3.450000   723532000\n",
       "1999-01-07  3.428125  4.006250  3.325000  3.971875   3.971875   945492000\n",
       "1999-01-08  4.606250  4.978125  3.800000  4.006250   4.006250  1333244000"
      ]
     },
     "execution_count": 7,
     "metadata": {},
     "output_type": "execute_result"
    }
   ],
   "source": [
    "amzn.head()"
   ]
  },
  {
   "cell_type": "code",
   "execution_count": 8,
   "id": "de955c98-0ff2-4a7f-adee-f65068835a8d",
   "metadata": {
    "tags": []
   },
   "outputs": [
    {
     "name": "stdout",
     "output_type": "stream",
     "text": [
      "<class 'pandas.core.frame.DataFrame'>\n",
      "Index: 6039 entries, 1999-01-04 to 2022-12-30\n",
      "Data columns (total 6 columns):\n",
      " #   Column     Non-Null Count  Dtype  \n",
      "---  ------     --------------  -----  \n",
      " 0   Open       6039 non-null   float64\n",
      " 1   High       6039 non-null   float64\n",
      " 2   Low        6039 non-null   float64\n",
      " 3   Close      6039 non-null   float64\n",
      " 4   Adj Close  6039 non-null   float64\n",
      " 5   Volume     6039 non-null   int64  \n",
      "dtypes: float64(5), int64(1)\n",
      "memory usage: 330.3+ KB\n"
     ]
    }
   ],
   "source": [
    "amzn.info()"
   ]
  },
  {
   "cell_type": "markdown",
   "id": "e233af9c-7085-4aea-9740-131084d8df49",
   "metadata": {},
   "source": [
    "1. Change index date to datetime\n",
    "2. change columns names to lower case\n",
    "--- there is no nulls\n",
    "3. change all decimals for up two-three decimal spaces.\n",
    "4. create data Dictionary\n"
   ]
  }
 ],
 "metadata": {
  "kernelspec": {
   "display_name": "Python 3 (ipykernel)",
   "language": "python",
   "name": "python3"
  },
  "language_info": {
   "codemirror_mode": {
    "name": "ipython",
    "version": 3
   },
   "file_extension": ".py",
   "mimetype": "text/x-python",
   "name": "python",
   "nbconvert_exporter": "python",
   "pygments_lexer": "ipython3",
   "version": "3.11.4"
  }
 },
 "nbformat": 4,
 "nbformat_minor": 5
}
