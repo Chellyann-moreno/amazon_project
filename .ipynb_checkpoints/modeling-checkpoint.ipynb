{
 "cells": [
  {
   "cell_type": "code",
   "execution_count": 2,
   "id": "e4aef859-9ddb-457c-bb65-9810d015739e",
   "metadata": {
    "tags": []
   },
   "outputs": [],
   "source": [
    "import pandas as pd\n",
    "import os\n",
    "from statsmodels.tsa.arima.model import ARIMA\n",
    "from sklearn.metrics import accuracy_score, recall_score\n",
    "from sklearn.preprocessing import MinMaxScaler\n",
    "\n",
    "import wrangle as w\n",
    "import explore as ex"
   ]
  },
  {
   "cell_type": "code",
   "execution_count": 4,
   "id": "696218d6-16d5-4e42-a1c6-0b529d2d446f",
   "metadata": {
    "tags": []
   },
   "outputs": [],
   "source": [
    "df=w.get_amzn()\n",
    "train,test=w.train_test_split(df)"
   ]
  },
  {
   "cell_type": "code",
   "execution_count": 5,
   "id": "ece078ca-6a00-492d-aa92-bb56e6699635",
   "metadata": {
    "tags": []
   },
   "outputs": [
    {
     "data": {
      "text/plain": [
       "(4398, 1885)"
      ]
     },
     "execution_count": 5,
     "metadata": {},
     "output_type": "execute_result"
    }
   ],
   "source": [
    "len(train), len(test)"
   ]
  },
  {
   "cell_type": "code",
   "execution_count": null,
   "id": "e587acb1-7e64-451a-905b-02b4b4599774",
   "metadata": {},
   "outputs": [],
   "source": []
  },
  {
   "cell_type": "code",
   "execution_count": null,
   "id": "b94cc177-545c-4180-96da-0f6cb668136d",
   "metadata": {},
   "outputs": [],
   "source": []
  },
  {
   "cell_type": "code",
   "execution_count": null,
   "id": "9c2a36fa-33e2-4bb9-b03b-671bca275339",
   "metadata": {},
   "outputs": [],
   "source": []
  },
  {
   "cell_type": "code",
   "execution_count": null,
   "id": "a753c626-75f4-4ff8-94b7-686bdb746dd3",
   "metadata": {},
   "outputs": [],
   "source": []
  },
  {
   "cell_type": "code",
   "execution_count": null,
   "id": "d224487e-023a-49e1-93d8-f3b40cee77e5",
   "metadata": {},
   "outputs": [],
   "source": []
  },
  {
   "cell_type": "code",
   "execution_count": null,
   "id": "34dbb2a8-d0e0-461e-8578-8f18d3ddbc61",
   "metadata": {},
   "outputs": [],
   "source": [
    "def arima_model(x_train, y_train, order=(1, 1, 1), scale=True):\n",
    "    scaler = MinMaxScaler()\n",
    "    x_train_scaled = pd.DataFrame(scaler.fit_transform(x_train), columns=x_train.columns, index=x_train.index)\n",
    "\n",
    "    # Combine features and target variable\n",
    "    train_data = pd.concat([x_train_scaled, y_train], axis=1)\n",
    "\n",
    "    # Fit ARIMA model\n",
    "    model = ARIMA(train_data[y_train.name], order=order, trend='c')  # 'c' adds a constant term\n",
    "    model_fit = model.fit()\n",
    "\n",
    "    # Make predictions on the training set\n",
    "    y_train_pred = model_fit.predict()\n",
    "\n",
    "    # Calculate accuracy and recall\n",
    "    ytr_acc = accuracy_score(y_train, y_train_pred.round())\n",
    "    tr_rec = recall_score(y_train, y_train_pred.round())\n",
    "\n",
    "    # Print accuracy and recall\n",
    "    print(f'Train Accuracy:      {round(ytr_acc*100,2)}%')\n",
    "    print(f'Train Recall:        {round(tr_rec*100,2)}%')\n",
    "\n",
    "    return model_fit, y_train_pred, ytr_acc, tr_rec\n",
    "\n",
    "# Example usage:\n",
    "# Assuming x_train and y_train are your training features and target variable\n",
    "# model, y_train_pred, ytr_acc, tr_rec = arima_model(x_train, y_train, order=(1, 1, 1), scale=True)\n"
   ]
  }
 ],
 "metadata": {
  "kernelspec": {
   "display_name": "Python 3 (ipykernel)",
   "language": "python",
   "name": "python3"
  },
  "language_info": {
   "codemirror_mode": {
    "name": "ipython",
    "version": 3
   },
   "file_extension": ".py",
   "mimetype": "text/x-python",
   "name": "python",
   "nbconvert_exporter": "python",
   "pygments_lexer": "ipython3",
   "version": "3.11.4"
  }
 },
 "nbformat": 4,
 "nbformat_minor": 5
}
