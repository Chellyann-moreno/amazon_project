{
 "cells": [
  {
   "cell_type": "code",
   "execution_count": 1,
   "id": "e4aef859-9ddb-457c-bb65-9810d015739e",
   "metadata": {
    "tags": []
   },
   "outputs": [],
   "source": [
    "import pandas as pd\n",
    "import os\n",
    "from statsmodels.tsa.arima.model import ARIMA\n",
    "from sklearn.metrics import accuracy_score, recall_score, mean_squared_error, mean_absolute_error\n",
    "from sklearn.preprocessing import MinMaxScaler\n",
    "from sklearn.linear_model import Ridge\n",
    "from sklearn.pipeline import make_pipeline\n",
    "import matplotlib.pyplot as plt\n",
    "\n",
    "import wrangle as w\n",
    "import explore as ex\n",
    "import warnings\n",
    "warnings.filterwarnings(\"ignore\")"
   ]
  },
  {
   "cell_type": "code",
   "execution_count": 2,
   "id": "696218d6-16d5-4e42-a1c6-0b529d2d446f",
   "metadata": {
    "tags": []
   },
   "outputs": [],
   "source": [
    "train,test=w.read_train_test()"
   ]
  },
  {
   "cell_type": "code",
   "execution_count": 3,
   "id": "ece078ca-6a00-492d-aa92-bb56e6699635",
   "metadata": {
    "tags": []
   },
   "outputs": [
    {
     "data": {
      "text/plain": [
       "(4398, 1885)"
      ]
     },
     "execution_count": 3,
     "metadata": {},
     "output_type": "execute_result"
    }
   ],
   "source": [
    "len(train), len(test)"
   ]
  },
  {
   "cell_type": "markdown",
   "id": "d83f6653-8f9e-48cd-a797-a0f696eace8c",
   "metadata": {},
   "source": [
    "1. Will be using adjusted_close as x_target.\n",
    "2. Will Drop close, adjusted close, volume, rsi_14 for the y_target\n",
    "3. May need to scale for some machine model.\n"
   ]
  },
  {
   "cell_type": "code",
   "execution_count": null,
   "id": "a4eecba5-f4e6-42d3-b5c3-77689d5a7d8a",
   "metadata": {
    "tags": []
   },
   "outputs": [],
   "source": []
  },
  {
   "cell_type": "code",
   "execution_count": 4,
   "id": "af78a92e-e75d-46a3-b26f-95141bb8dbb4",
   "metadata": {
    "tags": []
   },
   "outputs": [],
   "source": [
    "train=train.dropna()\n",
    "test=test.dropna()"
   ]
  },
  {
   "cell_type": "code",
   "execution_count": 5,
   "id": "d5aea709-50c6-4aaa-b462-090492ed4a50",
   "metadata": {
    "tags": []
   },
   "outputs": [
    {
     "name": "stdout",
     "output_type": "stream",
     "text": [
      "<class 'pandas.core.frame.DataFrame'>\n",
      "DatetimeIndex: 4349 entries, 1999-03-16 to 2016-06-24\n",
      "Data columns (total 8 columns):\n",
      " #   Column          Non-Null Count  Dtype  \n",
      "---  ------          --------------  -----  \n",
      " 0   open            4349 non-null   float64\n",
      " 1   high            4349 non-null   float64\n",
      " 2   low             4349 non-null   float64\n",
      " 3   close           4349 non-null   float64\n",
      " 4   adjusted_close  4349 non-null   float64\n",
      " 5   volume          4349 non-null   int64  \n",
      " 6   sma_50          4349 non-null   float64\n",
      " 7   rsi_14          4349 non-null   float64\n",
      "dtypes: float64(7), int64(1)\n",
      "memory usage: 305.8 KB\n"
     ]
    }
   ],
   "source": [
    "train.info()"
   ]
  },
  {
   "cell_type": "code",
   "execution_count": 6,
   "id": "32baf6ba-a460-4658-bfcc-04f4e592bb33",
   "metadata": {
    "tags": []
   },
   "outputs": [],
   "source": [
    "train_q = train.resample('Q').mean()\n",
    "test_q= test.resample('Q').mean()"
   ]
  },
  {
   "cell_type": "code",
   "execution_count": 7,
   "id": "b94cc177-545c-4180-96da-0f6cb668136d",
   "metadata": {},
   "outputs": [],
   "source": [
    "#create x /y targets\n",
    "x_train= train_q.drop(columns=['volume','adjusted_close','close','rsi_14'])\n",
    "y_train= train_q.adjusted_close\n",
    "x_test= test_q.drop(columns=['volume','adjusted_close','close','rsi_14'])\n",
    "y_test=test_q.adjusted_close"
   ]
  },
  {
   "cell_type": "code",
   "execution_count": null,
   "id": "dd3481ec-016c-4bb3-b8b1-b0787ba120a9",
   "metadata": {},
   "outputs": [],
   "source": []
  },
  {
   "cell_type": "code",
   "execution_count": 8,
   "id": "34dbb2a8-d0e0-461e-8578-8f18d3ddbc61",
   "metadata": {},
   "outputs": [
    {
     "name": "stdout",
     "output_type": "stream",
     "text": [
      "Mean Squared Error: 0.05249744782772157\n",
      "Mean Absolute Error: 0.12078684811866132\n"
     ]
    }
   ],
   "source": [
    "from sklearn.metrics import mean_squared_error, mean_absolute_error\n",
    "# Define the order for ARIMA model\n",
    "order = (1, 1, 1)\n",
    "\n",
    "# Fit the ARIMA model\n",
    "model = ARIMA(train[y_train.name], order=order)\n",
    "model_fit = model.fit()\n",
    "\n",
    "# Make predictions on the training set\n",
    "# ARIMA model's differencing causes the first value to be NaN, so we start from the second index\n",
    "y_train_pred = model_fit.predict(start=1)\n",
    "# Remove the first value from the training data to align with the predictions\n",
    "y_train_actual = train[y_train.name].iloc[1:]\n",
    "\n",
    "# Calculate regression metrics\n",
    "mse = mean_squared_error(y_train_actual, y_train_pred)\n",
    "mae = mean_absolute_error(y_train_actual, y_train_pred)\n",
    "\n",
    "# Print regression metrics\n",
    "print(f'Mean Squared Error: {mse}')\n",
    "print(f'Mean Absolute Error: {mae}')\n"
   ]
  },
  {
   "cell_type": "markdown",
   "id": "891e2352-4d28-48d3-b74c-51f61d33e394",
   "metadata": {
    "tags": []
   },
   "source": [
    "### A lower MSE indicates better model performance, as it means the predicted values are closer to the actual values.\n",
    "### A lower MAE indicates better model performance, as it means the absolute differences between the predicted and actual values are smaller."
   ]
  },
  {
   "cell_type": "code",
   "execution_count": 9,
   "id": "affbb249-480a-4a85-8944-87fc7776450f",
   "metadata": {
    "tags": []
   },
   "outputs": [],
   "source": [
    "import numpy as np\n",
    "from sklearn.preprocessing import RobustScaler\n",
    "from sklearn.linear_model import LinearRegression, LassoLarsCV\n",
    "from sklearn.preprocessing import PolynomialFeatures\n",
    "from sklearn.metrics import mean_squared_error, r2_score\n",
    "alpha=0.05\n",
    "\n",
    "def calculate_regression_results(X_train, y_train, X_test, y_test):\n",
    "    # Calculate baseline (yhat)\n",
    "    yhat = np.mean(y_train)\n",
    "\n",
    "    # Initialize dataframe to store results\n",
    "    results_df = pd.DataFrame(columns=['Model', 'Alpha', 'Degree', 'RMSE', 'R2'])\n",
    "\n",
    "    # Ordinary Least Squares (OLS) regression\n",
    "    ols = LinearRegression()\n",
    "    ols.fit(X_train, y_train)\n",
    "    ols_y_pred = ols.predict(X_test)\n",
    "    ols_rmse = np.sqrt(mean_squared_error(y_test, ols_y_pred))\n",
    "    ols_r2 = r2_score(y_test, ols_y_pred)\n",
    "    results_df = results_df.append({'Model': 'OLS', 'Alpha': None, 'Degree': None, 'RMSE': ols_rmse, 'R2': ols_r2}, ignore_index=True)\n",
    "\n",
    "    # LassoLARS regression with different alphas\n",
    "    alphas = [0.1, 0.01, 0.001]\n",
    "    for alpha in alphas:\n",
    "        lasso = LassoLarsCV(cv=5, max_iter=10000, eps=0.1, normalize=True, precompute='auto')\n",
    "        lasso.fit(X_train, y_train)\n",
    "        lasso_y_pred = lasso.predict(X_test)\n",
    "        lasso_rmse = np.sqrt(mean_squared_error(y_test, lasso_y_pred))\n",
    "        lasso_r2 = r2_score(y_test, lasso_y_pred)\n",
    "        results_df = results_df.append({'Model': 'LassoLARS', 'Alpha': alpha, 'Degree': None, 'RMSE': lasso_rmse, 'R2': lasso_r2}, ignore_index=True)\n",
    "\n",
    "    # Polynomial regression with different degrees\n",
    "    degrees = [1, 2, 3, 4]\n",
    "    for degree in degrees:\n",
    "        poly_features = PolynomialFeatures(degree=degree)\n",
    "        X_train_poly = poly_features.fit_transform(X_train)\n",
    "        X_test_poly = poly_features.transform(X_test)\n",
    "        poly_reg = LinearRegression()\n",
    "        poly_reg.fit(X_train_poly, y_train)\n",
    "        poly_y_pred = poly_reg.predict(X_test_poly)\n",
    "        poly_rmse = np.sqrt(mean_squared_error(y_test, poly_y_pred))\n",
    "        poly_r2 = r2_score(y_test, poly_y_pred)\n",
    "        results_df = results_df.append({'Model': 'Polynomial Regression', 'Alpha': None, 'Degree': degree, 'RMSE': poly_rmse, 'R2': poly_r2}, ignore_index=True)\n",
    "\n",
    "    return results_df"
   ]
  },
  {
   "cell_type": "code",
   "execution_count": 10,
   "id": "3e4963f7-4d6d-4633-b0eb-fa9da0cd661a",
   "metadata": {
    "tags": []
   },
   "outputs": [
    {
     "data": {
      "text/html": [
       "<div>\n",
       "<style scoped>\n",
       "    .dataframe tbody tr th:only-of-type {\n",
       "        vertical-align: middle;\n",
       "    }\n",
       "\n",
       "    .dataframe tbody tr th {\n",
       "        vertical-align: top;\n",
       "    }\n",
       "\n",
       "    .dataframe thead th {\n",
       "        text-align: right;\n",
       "    }\n",
       "</style>\n",
       "<table border=\"1\" class=\"dataframe\">\n",
       "  <thead>\n",
       "    <tr style=\"text-align: right;\">\n",
       "      <th></th>\n",
       "      <th>Model</th>\n",
       "      <th>Alpha</th>\n",
       "      <th>Degree</th>\n",
       "      <th>RMSE</th>\n",
       "      <th>R2</th>\n",
       "    </tr>\n",
       "  </thead>\n",
       "  <tbody>\n",
       "    <tr>\n",
       "      <th>0</th>\n",
       "      <td>OLS</td>\n",
       "      <td>NaN</td>\n",
       "      <td>None</td>\n",
       "      <td>0.121782</td>\n",
       "      <td>9.999915e-01</td>\n",
       "    </tr>\n",
       "    <tr>\n",
       "      <th>1</th>\n",
       "      <td>LassoLARS</td>\n",
       "      <td>0.100</td>\n",
       "      <td>None</td>\n",
       "      <td>0.188017</td>\n",
       "      <td>9.999796e-01</td>\n",
       "    </tr>\n",
       "    <tr>\n",
       "      <th>2</th>\n",
       "      <td>LassoLARS</td>\n",
       "      <td>0.010</td>\n",
       "      <td>None</td>\n",
       "      <td>0.188017</td>\n",
       "      <td>9.999796e-01</td>\n",
       "    </tr>\n",
       "    <tr>\n",
       "      <th>3</th>\n",
       "      <td>LassoLARS</td>\n",
       "      <td>0.001</td>\n",
       "      <td>None</td>\n",
       "      <td>0.188017</td>\n",
       "      <td>9.999796e-01</td>\n",
       "    </tr>\n",
       "    <tr>\n",
       "      <th>4</th>\n",
       "      <td>Polynomial Regression</td>\n",
       "      <td>NaN</td>\n",
       "      <td>1</td>\n",
       "      <td>0.121782</td>\n",
       "      <td>9.999915e-01</td>\n",
       "    </tr>\n",
       "    <tr>\n",
       "      <th>5</th>\n",
       "      <td>Polynomial Regression</td>\n",
       "      <td>NaN</td>\n",
       "      <td>2</td>\n",
       "      <td>2.447522</td>\n",
       "      <td>9.965468e-01</td>\n",
       "    </tr>\n",
       "    <tr>\n",
       "      <th>6</th>\n",
       "      <td>Polynomial Regression</td>\n",
       "      <td>NaN</td>\n",
       "      <td>3</td>\n",
       "      <td>72.878306</td>\n",
       "      <td>-2.061688e+00</td>\n",
       "    </tr>\n",
       "    <tr>\n",
       "      <th>7</th>\n",
       "      <td>Polynomial Regression</td>\n",
       "      <td>NaN</td>\n",
       "      <td>4</td>\n",
       "      <td>174938.512484</td>\n",
       "      <td>-1.764149e+07</td>\n",
       "    </tr>\n",
       "  </tbody>\n",
       "</table>\n",
       "</div>"
      ],
      "text/plain": [
       "                   Model  Alpha Degree           RMSE            R2\n",
       "0                    OLS    NaN   None       0.121782  9.999915e-01\n",
       "1              LassoLARS  0.100   None       0.188017  9.999796e-01\n",
       "2              LassoLARS  0.010   None       0.188017  9.999796e-01\n",
       "3              LassoLARS  0.001   None       0.188017  9.999796e-01\n",
       "4  Polynomial Regression    NaN      1       0.121782  9.999915e-01\n",
       "5  Polynomial Regression    NaN      2       2.447522  9.965468e-01\n",
       "6  Polynomial Regression    NaN      3      72.878306 -2.061688e+00\n",
       "7  Polynomial Regression    NaN      4  174938.512484 -1.764149e+07"
      ]
     },
     "execution_count": 10,
     "metadata": {},
     "output_type": "execute_result"
    }
   ],
   "source": [
    "calculate_regression_results(x_train, y_train, x_test, y_test)"
   ]
  },
  {
   "cell_type": "code",
   "execution_count": 11,
   "id": "b805dbd9-dbe4-4e50-af36-6d1618219548",
   "metadata": {
    "tags": []
   },
   "outputs": [
    {
     "name": "stdout",
     "output_type": "stream",
     "text": [
      "              open    high     low   close  adjusted_close       volume  \\\n",
      "date                                                                      \n",
      "2016-09-06   38.70   39.47   38.51   39.44           39.44   74396000.0   \n",
      "2016-09-07   39.48   39.54   39.22   39.22           39.22   48492000.0   \n",
      "2016-09-08   39.19   39.33   39.07   39.20           39.20   40610000.0   \n",
      "2016-09-09   38.97   39.05   38.01   38.01           38.01   85146000.0   \n",
      "2016-09-12   37.87   38.63   37.80   38.57           38.57   62494000.0   \n",
      "...            ...     ...     ...     ...             ...          ...   \n",
      "2023-12-15  148.38  150.57  147.88  149.97          149.97  110039100.0   \n",
      "2023-12-18  150.56  154.85  150.05  154.07          154.07   62512800.0   \n",
      "2023-12-19  154.40  155.12  152.69  153.79          153.79   43171300.0   \n",
      "2023-12-20  152.90  155.63  151.56  152.12          152.12   50258500.0   \n",
      "2023-12-31     NaN     NaN     NaN     NaN             NaN          NaN   \n",
      "\n",
      "              sma_50     rsi_14  p_adj_close_Poly  \n",
      "date                                               \n",
      "2016-09-06   37.5826  73.759745               NaN  \n",
      "2016-09-07   37.6756  68.616692               NaN  \n",
      "2016-09-08   37.7516  68.151461               NaN  \n",
      "2016-09-09   37.7962  47.510491               NaN  \n",
      "2016-09-12   37.8520  54.495054               NaN  \n",
      "...              ...        ...               ...  \n",
      "2023-12-15  138.8954  62.090388               NaN  \n",
      "2023-12-18  139.4176  68.053715               NaN  \n",
      "2023-12-19  139.9282  67.275402               NaN  \n",
      "2023-12-20  140.3810  62.671601               NaN  \n",
      "2023-12-31       NaN        NaN         138.57381  \n",
      "\n",
      "[1847 rows x 9 columns]\n",
      "Mean Squared Error: 0.033957989287364196\n",
      "R-squared: 0.9999804247901729\n"
     ]
    },
    {
     "data": {
      "image/png": "[encoded data removed]",
      "text/plain": [
       "<Figure size 640x480 with 1 Axes>"
      ]
     },
     "metadata": {},
     "output_type": "display_data"
    }
   ],
   "source": [
    "# Polynomial regression with degree 1 (linear regression)\n",
    "degree = 1\n",
    "\n",
    "model = make_pipeline(PolynomialFeatures(degree), Ridge())\n",
    "\n",
    "# Fit the model\n",
    "model.fit(x_train, y_train)\n",
    "\n",
    "# Make predictions\n",
    "y_pred = model.predict(x_test)\n",
    "\n",
    "# Create a DataFrame to store the predicted values\n",
    "predicted_df = pd.DataFrame(index=x_test.index, columns=['p_adj_close_Poly'], data=y_pred)\n",
    "\n",
    "# Concatenate the predicted values DataFrame with the test DataFrame\n",
    "test = pd.concat([test, predicted_df], axis=1)\n",
    "\n",
    "# Print the DataFrame with predicted values\n",
    "print(test)\n",
    "\n",
    "# Calculate metrics\n",
    "mse = mean_squared_error(y_test, y_pred)\n",
    "r2 = r2_score(y_test, y_pred)\n",
    "\n",
    "print(\"Mean Squared Error:\", mse)\n",
    "print(\"R-squared:\", r2)\n",
    "\n",
    "# Plotting\n",
    "plt.scatter(x_test.iloc[:, 0], y_test, color='black', label='Actual')  # Assuming x_test has one feature\n",
    "plt.plot(x_test.iloc[:, 0], y_pred, color='blue', linewidth=3, label='Predicted')  # Assuming x_test has one feature\n",
    "plt.xlabel('Feature')  # Update with appropriate label\n",
    "plt.ylabel('Adjusted Close')\n",
    "plt.title('Polynomial Regression (Degree = 1)')\n",
    "plt.legend()\n",
    "plt.show()"
   ]
  },
  {
   "cell_type": "code",
   "execution_count": 12,
   "id": "0e50f371-5dd9-45ab-8caa-89567550ca5f",
   "metadata": {
    "tags": []
   },
   "outputs": [],
   "source": [
    "test.dropna(inplace=True)"
   ]
  },
  {
   "cell_type": "code",
   "execution_count": 13,
   "id": "393e915f-ef7c-4c20-874c-6d3c47e76114",
   "metadata": {
    "tags": []
   },
   "outputs": [
    {
     "data": {
      "text/html": [
       "<div>\n",
       "<style scoped>\n",
       "    .dataframe tbody tr th:only-of-type {\n",
       "        vertical-align: middle;\n",
       "    }\n",
       "\n",
       "    .dataframe tbody tr th {\n",
       "        vertical-align: top;\n",
       "    }\n",
       "\n",
       "    .dataframe thead th {\n",
       "        text-align: right;\n",
       "    }\n",
       "</style>\n",
       "<table border=\"1\" class=\"dataframe\">\n",
       "  <thead>\n",
       "    <tr style=\"text-align: right;\">\n",
       "      <th></th>\n",
       "      <th>open</th>\n",
       "      <th>high</th>\n",
       "      <th>low</th>\n",
       "      <th>close</th>\n",
       "      <th>adjusted_close</th>\n",
       "      <th>volume</th>\n",
       "      <th>sma_50</th>\n",
       "      <th>rsi_14</th>\n",
       "      <th>p_adj_close_Poly</th>\n",
       "    </tr>\n",
       "    <tr>\n",
       "      <th>date</th>\n",
       "      <th></th>\n",
       "      <th></th>\n",
       "      <th></th>\n",
       "      <th></th>\n",
       "      <th></th>\n",
       "      <th></th>\n",
       "      <th></th>\n",
       "      <th></th>\n",
       "      <th></th>\n",
       "    </tr>\n",
       "  </thead>\n",
       "  <tbody>\n",
       "    <tr>\n",
       "      <th>2016-09-30</th>\n",
       "      <td>41.63</td>\n",
       "      <td>42.00</td>\n",
       "      <td>41.62</td>\n",
       "      <td>41.87</td>\n",
       "      <td>41.87</td>\n",
       "      <td>88612000.0</td>\n",
       "      <td>38.6276</td>\n",
       "      <td>75.900960</td>\n",
       "      <td>39.467146</td>\n",
       "    </tr>\n",
       "    <tr>\n",
       "      <th>2017-03-31</th>\n",
       "      <td>43.85</td>\n",
       "      <td>44.52</td>\n",
       "      <td>43.83</td>\n",
       "      <td>44.33</td>\n",
       "      <td>44.33</td>\n",
       "      <td>79152000.0</td>\n",
       "      <td>42.1408</td>\n",
       "      <td>75.035942</td>\n",
       "      <td>41.611958</td>\n",
       "    </tr>\n",
       "    <tr>\n",
       "      <th>2017-06-30</th>\n",
       "      <td>49.01</td>\n",
       "      <td>49.17</td>\n",
       "      <td>48.38</td>\n",
       "      <td>48.40</td>\n",
       "      <td>48.40</td>\n",
       "      <td>67806000.0</td>\n",
       "      <td>48.4142</td>\n",
       "      <td>44.559362</td>\n",
       "      <td>47.747198</td>\n",
       "    </tr>\n",
       "    <tr>\n",
       "      <th>2018-12-31</th>\n",
       "      <td>75.54</td>\n",
       "      <td>76.04</td>\n",
       "      <td>74.35</td>\n",
       "      <td>75.10</td>\n",
       "      <td>75.10</td>\n",
       "      <td>139090000.0</td>\n",
       "      <td>80.6136</td>\n",
       "      <td>45.365050</td>\n",
       "      <td>83.493856</td>\n",
       "    </tr>\n",
       "    <tr>\n",
       "      <th>2019-09-30</th>\n",
       "      <td>86.35</td>\n",
       "      <td>86.87</td>\n",
       "      <td>85.46</td>\n",
       "      <td>86.80</td>\n",
       "      <td>86.80</td>\n",
       "      <td>52894000.0</td>\n",
       "      <td>91.0174</td>\n",
       "      <td>38.032823</td>\n",
       "      <td>92.813890</td>\n",
       "    </tr>\n",
       "  </tbody>\n",
       "</table>\n",
       "</div>"
      ],
      "text/plain": [
       "             open   high    low  close  adjusted_close       volume   sma_50  \\\n",
       "date                                                                           \n",
       "2016-09-30  41.63  42.00  41.62  41.87           41.87   88612000.0  38.6276   \n",
       "2017-03-31  43.85  44.52  43.83  44.33           44.33   79152000.0  42.1408   \n",
       "2017-06-30  49.01  49.17  48.38  48.40           48.40   67806000.0  48.4142   \n",
       "2018-12-31  75.54  76.04  74.35  75.10           75.10  139090000.0  80.6136   \n",
       "2019-09-30  86.35  86.87  85.46  86.80           86.80   52894000.0  91.0174   \n",
       "\n",
       "               rsi_14  p_adj_close_Poly  \n",
       "date                                     \n",
       "2016-09-30  75.900960         39.467146  \n",
       "2017-03-31  75.035942         41.611958  \n",
       "2017-06-30  44.559362         47.747198  \n",
       "2018-12-31  45.365050         83.493856  \n",
       "2019-09-30  38.032823         92.813890  "
      ]
     },
     "execution_count": 13,
     "metadata": {},
     "output_type": "execute_result"
    }
   ],
   "source": [
    "test.head()"
   ]
  },
  {
   "cell_type": "code",
   "execution_count": null,
   "id": "561f3e71-1087-419e-9299-0bafae5eae2f",
   "metadata": {},
   "outputs": [],
   "source": []
  }
 ],
 "metadata": {
  "kernelspec": {
   "display_name": "Python 3 (ipykernel)",
   "language": "python",
   "name": "python3"
  },
  "language_info": {
   "codemirror_mode": {
    "name": "ipython",
    "version": 3
   },
   "file_extension": ".py",
   "mimetype": "text/x-python",
   "name": "python",
   "nbconvert_exporter": "python",
   "pygments_lexer": "ipython3",
   "version": "3.11.4"
  }
 },
 "nbformat": 4,
 "nbformat_minor": 5
}
