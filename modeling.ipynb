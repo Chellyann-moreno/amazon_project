{
 "cells": [
  {
   "cell_type": "code",
   "execution_count": 42,
   "id": "e4aef859-9ddb-457c-bb65-9810d015739e",
   "metadata": {
    "tags": []
   },
   "outputs": [],
   "source": [
    "import pandas as pd\n",
    "import os\n",
    "from statsmodels.tsa.arima.model import ARIMA\n",
    "from sklearn.metrics import accuracy_score, recall_score, mean_squared_error, mean_absolute_error\n",
    "from sklearn.preprocessing import MinMaxScaler\n",
    "\n",
    "import wrangle as w\n",
    "import explore as ex\n",
    "import warnings\n",
    "warnings.filterwarnings(\"ignore\")"
   ]
  },
  {
   "cell_type": "code",
   "execution_count": 50,
   "id": "696218d6-16d5-4e42-a1c6-0b529d2d446f",
   "metadata": {
    "tags": []
   },
   "outputs": [],
   "source": [
    "train,test=w.read_train_test()"
   ]
  },
  {
   "cell_type": "code",
   "execution_count": 51,
   "id": "ece078ca-6a00-492d-aa92-bb56e6699635",
   "metadata": {
    "tags": []
   },
   "outputs": [
    {
     "data": {
      "text/plain": [
       "(4398, 1885)"
      ]
     },
     "execution_count": 51,
     "metadata": {},
     "output_type": "execute_result"
    }
   ],
   "source": [
    "len(train), len(test)"
   ]
  },
  {
   "cell_type": "markdown",
   "id": "d83f6653-8f9e-48cd-a797-a0f696eace8c",
   "metadata": {},
   "source": [
    "1. Will be using adjusted_close as x_target.\n",
    "2. Will Drop close, adjusted close, volume, rsi_14 for the y_target\n",
    "3. May need to scale for some machine model.\n"
   ]
  },
  {
   "cell_type": "code",
   "execution_count": 46,
   "id": "a4eecba5-f4e6-42d3-b5c3-77689d5a7d8a",
   "metadata": {
    "tags": []
   },
   "outputs": [],
   "source": []
  },
  {
   "cell_type": "code",
   "execution_count": 52,
   "id": "af78a92e-e75d-46a3-b26f-95141bb8dbb4",
   "metadata": {
    "tags": []
   },
   "outputs": [],
   "source": [
    "train=train.dropna()\n",
    "test=test.dropna()"
   ]
  },
  {
   "cell_type": "code",
   "execution_count": 53,
   "id": "d5aea709-50c6-4aaa-b462-090492ed4a50",
   "metadata": {
    "tags": []
   },
   "outputs": [
    {
     "name": "stdout",
     "output_type": "stream",
     "text": [
      "<class 'pandas.core.frame.DataFrame'>\n",
      "DatetimeIndex: 4349 entries, 1999-03-16 to 2016-06-24\n",
      "Data columns (total 8 columns):\n",
      " #   Column          Non-Null Count  Dtype  \n",
      "---  ------          --------------  -----  \n",
      " 0   open            4349 non-null   float64\n",
      " 1   high            4349 non-null   float64\n",
      " 2   low             4349 non-null   float64\n",
      " 3   close           4349 non-null   float64\n",
      " 4   adjusted_close  4349 non-null   float64\n",
      " 5   volume          4349 non-null   int64  \n",
      " 6   sma_50          4349 non-null   float64\n",
      " 7   rsi_14          4349 non-null   float64\n",
      "dtypes: float64(7), int64(1)\n",
      "memory usage: 305.8 KB\n"
     ]
    }
   ],
   "source": [
    "train.info()"
   ]
  },
  {
   "cell_type": "code",
   "execution_count": 54,
   "id": "32baf6ba-a460-4658-bfcc-04f4e592bb33",
   "metadata": {
    "tags": []
   },
   "outputs": [],
   "source": [
    "train_q = train.resample('Q').mean()\n",
    "test_q= test.resample('Q').mean()"
   ]
  },
  {
   "cell_type": "code",
   "execution_count": 14,
   "id": "b94cc177-545c-4180-96da-0f6cb668136d",
   "metadata": {},
   "outputs": [],
   "source": [
    "#create x /y targets\n",
    "x_train= train.drop(columns=['volume','adjusted_close','close','rsi_14'])\n",
    "y_train= train.adjusted_close\n",
    "x_test= test.drop(columns=['volume','adjusted_close','close','rsi_14'])\n",
    "y_test=test.adjusted_close"
   ]
  },
  {
   "cell_type": "code",
   "execution_count": null,
   "id": "dd3481ec-016c-4bb3-b8b1-b0787ba120a9",
   "metadata": {},
   "outputs": [],
   "source": []
  },
  {
   "cell_type": "code",
   "execution_count": 43,
   "id": "34dbb2a8-d0e0-461e-8578-8f18d3ddbc61",
   "metadata": {},
   "outputs": [
    {
     "name": "stdout",
     "output_type": "stream",
     "text": [
      "Mean Squared Error: 0.05506585494479958\n",
      "Mean Absolute Error: 0.1215293666635869\n"
     ]
    }
   ],
   "source": [
    "from sklearn.metrics import mean_squared_error, mean_absolute_error\n",
    "\n",
    "train_data = pd.concat([x_train, y_train], axis=1)\n",
    "order=(1, 1, 1)\n",
    "\n",
    "# ... (your code to fit the ARIMA model)\n",
    "model = ARIMA(train[y_train.name], order=order)\n",
    "model_fit = model.fit()\n",
    "\n",
    "# Make predictions on the training set\n",
    "y_train_pred = model_fit.predict()\n",
    "\n",
    "# Calculate regression metrics\n",
    "mse = mean_squared_error(y_train, y_train_pred)\n",
    "mae = mean_absolute_error(y_train, y_train_pred)\n",
    "\n",
    "# Print regression metrics\n",
    "print(f'Mean Squared Error: {mse}')\n",
    "print(f'Mean Absolute Error: {mae}')\n"
   ]
  },
  {
   "cell_type": "markdown",
   "id": "891e2352-4d28-48d3-b74c-51f61d33e394",
   "metadata": {
    "tags": []
   },
   "source": [
    "### A lower MSE indicates better model performance, as it means the predicted values are closer to the actual values.\n",
    "### A lower MAE indicates better model performance, as it means the absolute differences between the predicted and actual values are smaller."
   ]
  },
  {
   "cell_type": "code",
   "execution_count": 44,
   "id": "affbb249-480a-4a85-8944-87fc7776450f",
   "metadata": {
    "tags": []
   },
   "outputs": [],
   "source": [
    "import numpy as np\n",
    "from sklearn.preprocessing import RobustScaler\n",
    "from sklearn.linear_model import LinearRegression, LassoLarsCV\n",
    "from sklearn.preprocessing import PolynomialFeatures\n",
    "from sklearn.metrics import mean_squared_error, r2_score\n",
    "alpha=0.05\n",
    "\n",
    "def calculate_regression_results(X_train, y_train, X_test, y_test):\n",
    "    # Calculate baseline (yhat)\n",
    "    yhat = np.mean(y_train)\n",
    "\n",
    "    # Initialize dataframe to store results\n",
    "    results_df = pd.DataFrame(columns=['Model', 'Alpha', 'Degree', 'RMSE', 'R2'])\n",
    "\n",
    "    # Ordinary Least Squares (OLS) regression\n",
    "    ols = LinearRegression()\n",
    "    ols.fit(X_train, y_train)\n",
    "    ols_y_pred = ols.predict(X_test)\n",
    "    ols_rmse = np.sqrt(mean_squared_error(y_test, ols_y_pred))\n",
    "    ols_r2 = r2_score(y_test, ols_y_pred)\n",
    "    results_df = results_df.append({'Model': 'OLS', 'Alpha': None, 'Degree': None, 'RMSE': ols_rmse, 'R2': ols_r2}, ignore_index=True)\n",
    "\n",
    "    # LassoLARS regression with different alphas\n",
    "    alphas = [0.1, 0.01, 0.001]\n",
    "    for alpha in alphas:\n",
    "        lasso = LassoLarsCV(cv=5, max_iter=10000, eps=0.1, normalize=True, precompute='auto')\n",
    "        lasso.fit(X_train, y_train)\n",
    "        lasso_y_pred = lasso.predict(X_test)\n",
    "        lasso_rmse = np.sqrt(mean_squared_error(y_test, lasso_y_pred))\n",
    "        lasso_r2 = r2_score(y_test, lasso_y_pred)\n",
    "        results_df = results_df.append({'Model': 'LassoLARS', 'Alpha': alpha, 'Degree': None, 'RMSE': lasso_rmse, 'R2': lasso_r2}, ignore_index=True)\n",
    "\n",
    "    # Polynomial regression with different degrees\n",
    "    degrees = [1, 2, 3, 4]\n",
    "    for degree in degrees:\n",
    "        poly_features = PolynomialFeatures(degree=degree)\n",
    "        X_train_poly = poly_features.fit_transform(X_train)\n",
    "        X_test_poly = poly_features.transform(X_test)\n",
    "        poly_reg = LinearRegression()\n",
    "        poly_reg.fit(X_train_poly, y_train)\n",
    "        poly_y_pred = poly_reg.predict(X_test_poly)\n",
    "        poly_rmse = np.sqrt(mean_squared_error(y_test, poly_y_pred))\n",
    "        poly_r2 = r2_score(y_test, poly_y_pred)\n",
    "        results_df = results_df.append({'Model': 'Polynomial Regression', 'Alpha': None, 'Degree': degree, 'RMSE': poly_rmse, 'R2': poly_r2}, ignore_index=True)\n",
    "\n",
    "    return results_df"
   ]
  },
  {
   "cell_type": "code",
   "execution_count": 45,
   "id": "3e4963f7-4d6d-4633-b0eb-fa9da0cd661a",
   "metadata": {
    "tags": []
   },
   "outputs": [
    {
     "data": {
      "text/html": [
       "<div>\n",
       "<style scoped>\n",
       "    .dataframe tbody tr th:only-of-type {\n",
       "        vertical-align: middle;\n",
       "    }\n",
       "\n",
       "    .dataframe tbody tr th {\n",
       "        vertical-align: top;\n",
       "    }\n",
       "\n",
       "    .dataframe thead th {\n",
       "        text-align: right;\n",
       "    }\n",
       "</style>\n",
       "<table border=\"1\" class=\"dataframe\">\n",
       "  <thead>\n",
       "    <tr style=\"text-align: right;\">\n",
       "      <th></th>\n",
       "      <th>Model</th>\n",
       "      <th>Alpha</th>\n",
       "      <th>Degree</th>\n",
       "      <th>RMSE</th>\n",
       "      <th>R2</th>\n",
       "    </tr>\n",
       "  </thead>\n",
       "  <tbody>\n",
       "    <tr>\n",
       "      <th>0</th>\n",
       "      <td>OLS</td>\n",
       "      <td>NaN</td>\n",
       "      <td>None</td>\n",
       "      <td>0.832788</td>\n",
       "      <td>0.999599</td>\n",
       "    </tr>\n",
       "    <tr>\n",
       "      <th>1</th>\n",
       "      <td>LassoLARS</td>\n",
       "      <td>0.100</td>\n",
       "      <td>None</td>\n",
       "      <td>1.261817</td>\n",
       "      <td>0.999079</td>\n",
       "    </tr>\n",
       "    <tr>\n",
       "      <th>2</th>\n",
       "      <td>LassoLARS</td>\n",
       "      <td>0.010</td>\n",
       "      <td>None</td>\n",
       "      <td>1.261817</td>\n",
       "      <td>0.999079</td>\n",
       "    </tr>\n",
       "    <tr>\n",
       "      <th>3</th>\n",
       "      <td>LassoLARS</td>\n",
       "      <td>0.001</td>\n",
       "      <td>None</td>\n",
       "      <td>1.261817</td>\n",
       "      <td>0.999079</td>\n",
       "    </tr>\n",
       "    <tr>\n",
       "      <th>4</th>\n",
       "      <td>Polynomial Regression</td>\n",
       "      <td>NaN</td>\n",
       "      <td>1</td>\n",
       "      <td>0.832788</td>\n",
       "      <td>0.999599</td>\n",
       "    </tr>\n",
       "    <tr>\n",
       "      <th>5</th>\n",
       "      <td>Polynomial Regression</td>\n",
       "      <td>NaN</td>\n",
       "      <td>2</td>\n",
       "      <td>1.545307</td>\n",
       "      <td>0.998618</td>\n",
       "    </tr>\n",
       "    <tr>\n",
       "      <th>6</th>\n",
       "      <td>Polynomial Regression</td>\n",
       "      <td>NaN</td>\n",
       "      <td>3</td>\n",
       "      <td>33.677026</td>\n",
       "      <td>0.343724</td>\n",
       "    </tr>\n",
       "    <tr>\n",
       "      <th>7</th>\n",
       "      <td>Polynomial Regression</td>\n",
       "      <td>NaN</td>\n",
       "      <td>4</td>\n",
       "      <td>1228.078453</td>\n",
       "      <td>-871.712785</td>\n",
       "    </tr>\n",
       "  </tbody>\n",
       "</table>\n",
       "</div>"
      ],
      "text/plain": [
       "                   Model  Alpha Degree         RMSE          R2\n",
       "0                    OLS    NaN   None     0.832788    0.999599\n",
       "1              LassoLARS  0.100   None     1.261817    0.999079\n",
       "2              LassoLARS  0.010   None     1.261817    0.999079\n",
       "3              LassoLARS  0.001   None     1.261817    0.999079\n",
       "4  Polynomial Regression    NaN      1     0.832788    0.999599\n",
       "5  Polynomial Regression    NaN      2     1.545307    0.998618\n",
       "6  Polynomial Regression    NaN      3    33.677026    0.343724\n",
       "7  Polynomial Regression    NaN      4  1228.078453 -871.712785"
      ]
     },
     "execution_count": 45,
     "metadata": {},
     "output_type": "execute_result"
    }
   ],
   "source": [
    "calculate_regression_results(x_train, y_train, x_test, y_test)"
   ]
  },
  {
   "cell_type": "code",
   "execution_count": null,
   "id": "f498200f-5a30-4ff0-9e90-b8baedf5ff64",
   "metadata": {},
   "outputs": [],
   "source": []
  }
 ],
 "metadata": {
  "kernelspec": {
   "display_name": "Python 3 (ipykernel)",
   "language": "python",
   "name": "python3"
  },
  "language_info": {
   "codemirror_mode": {
    "name": "ipython",
    "version": 3
   },
   "file_extension": ".py",
   "mimetype": "text/x-python",
   "name": "python",
   "nbconvert_exporter": "python",
   "pygments_lexer": "ipython3",
   "version": "3.11.4"
  }
 },
 "nbformat": 4,
 "nbformat_minor": 5
}
